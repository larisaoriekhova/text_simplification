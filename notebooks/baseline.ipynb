{
 "cells": [
  {
   "cell_type": "code",
   "execution_count": 1,
   "metadata": {},
   "outputs": [],
   "source": [
    "import random\n",
    "import json\n",
    "import re\n",
    "import os\n",
    "import bz2\n",
    "import spacy\n",
    "nlp = spacy.load('en', disable=['ner', 'textcat'])\n",
    "\n",
    "from textstat.textstat import textstat\n",
    "import matplotlib.pyplot as plt\n",
    "\n",
    "from nlgeval import compute_metrics"
   ]
  },
  {
   "cell_type": "markdown",
   "metadata": {},
   "source": [
    "# Functions to read and prepare data"
   ]
  },
  {
   "cell_type": "code",
   "execution_count": 2,
   "metadata": {},
   "outputs": [],
   "source": [
    "# extract complex and simple sentences and text category \n",
    "# from all data for one sentence in DBPedia dataset\n",
    "\n",
    "def parseSentenceData(data):\n",
    "    data = data.strip().split(\"\\n\\n\")\n",
    "    \n",
    "    complexsentdata = data[0].strip().split(\"\\n\")\n",
    "    complexid = int(complexsentdata[0].split(\"-\")[1].strip())\n",
    "    complexsent = complexsentdata[1].strip()\n",
    "\n",
    "    cat = '' \n",
    "    mr_dict = {}\n",
    "    # Collect all complex mrs\n",
    "    for item in data[1:]:\n",
    "        if re.match('COMPLEX-'+str(complexid)+':MR-[0-9]*\\n', item):\n",
    "            # print item\n",
    "            mrdata = item.strip().split(\"\\n\")\n",
    "            mrid = mrdata[0]\n",
    "            mr = mrdata[1]\n",
    "            if re.match('category=[a-zA-Z]* eid=Id[0-9]* size=[0-9]*', mr):\n",
    "                cat = mr.strip().split(' ')[0].split('=')[1]\n",
    "            mr_dict[mrid] = [mr, {}]\n",
    "    \n",
    "    simpsents = {}\n",
    "    for item in data[1:]:\n",
    "        if re.match('COMPLEX-'+str(complexid)+':MR-[0-9]*:SIMPLE-[0-9]*\\n', item):\n",
    "            \n",
    "            mrid = \":\".join(item.strip().split(\"\\n\")[0].split(\":\")[:2])\n",
    "\n",
    "            sents = (\" \".join(item.strip().split(\"\\n\")[1:])).strip()\n",
    "            \n",
    "            if sents not in simpsents:\n",
    "                simpsents[sents] = 1\n",
    "\n",
    "            if sents not in mr_dict[mrid][1]:\n",
    "                mr_dict[mrid][1][sents] = 1\n",
    "\n",
    "    return complexsent, simpsents, cat"
   ]
  },
  {
   "cell_type": "code",
   "execution_count": 3,
   "metadata": {},
   "outputs": [],
   "source": [
    "# remove some frequent garbage from sentences \n",
    "def preprocessSentence(text):\n",
    "    text = re.sub('-LRB-(.*?)-RRB-', '', text)\n",
    "    text = re.sub('^\\\"', '', text)\n",
    "    text = re.sub('\\\"$', '', text)\n",
    "    return text"
   ]
  },
  {
   "cell_type": "code",
   "execution_count": 4,
   "metadata": {},
   "outputs": [],
   "source": [
    "# Read DBPedia dataset\n",
    "def readDBPediaData(compl_to_sim):\n",
    "    filename = '../dataset/complexsimple.txt.bz2'\n",
    "    with bz2.BZ2File(filename, \"r\") as content:         \n",
    "        sentdata = []\n",
    "        i = 0\n",
    "        close_to_geo_categories = ['Monument', 'City', 'Airport', 'Building']\n",
    "\n",
    "        for line in content:\n",
    "            if len(sentdata) == 0:\n",
    "                sentdata.append(line)\n",
    "            else:\n",
    "                if re.match('COMPLEX-[0-9]*\\n', line):\n",
    "                    complexsent, simpsents, cat = parseSentenceData(\"\".join(sentdata))\n",
    "                    simple_sen = simpsents.keys()[0]\n",
    "                    \n",
    "                    if (cat in close_to_geo_categories) and (len(simple_sen) > 0):\n",
    "                        compl_to_sim[preprocessSentence(complexsent)] = preprocessSentence(simple_sen)\n",
    "                    sentdata = [line]\n",
    "                else:\n",
    "                    sentdata.append(line)\n",
    "    return compl_to_sim"
   ]
  },
  {
   "cell_type": "code",
   "execution_count": 5,
   "metadata": {},
   "outputs": [],
   "source": [
    "# read Newsela dataset\n",
    "def readNewselaData(compl_to_sim):\n",
    "    with bz2.BZ2File('../dataset/clear_newsela.txt.bz2', \"r\") as content:         \n",
    "        for line in content:\n",
    "            texts = line.split('\\t')\n",
    "\n",
    "            if len(texts) != 2:\n",
    "#                 print 'wrong line: ', line\n",
    "                continue\n",
    "            if (len(texts[0]) < 10) or (len(texts[1]) < 10):\n",
    "#                 print 'empty line: ', line\n",
    "                continue\n",
    "                \n",
    "            compl_to_sim[texts[0]] = texts[1]\n",
    "    return compl_to_sim"
   ]
  },
  {
   "cell_type": "code",
   "execution_count": 6,
   "metadata": {},
   "outputs": [],
   "source": [
    "# split data to train and test set\n",
    "def splitTrainTest(compl_to_sim):\n",
    "    train = {}\n",
    "    test = {}\n",
    "\n",
    "    for compl, sim in compl_to_sim.iteritems():\n",
    "        try:\n",
    "            sim_u = sim.encode('utf-8')\n",
    "            compl_u = compl.encode('utf-8')\n",
    "        except:\n",
    "            continue\n",
    "        r = random.random()\n",
    "        if r < 0.8:\n",
    "            train[compl] = sim\n",
    "        else:\n",
    "            test[compl] = sim\n",
    "    return train, test"
   ]
  },
  {
   "cell_type": "markdown",
   "metadata": {},
   "source": [
    "# Functions for baseline logic"
   ]
  },
  {
   "cell_type": "code",
   "execution_count": 7,
   "metadata": {},
   "outputs": [],
   "source": [
    "# Some words does not make sense (or change sense) when used without dependent clause.\n",
    "# For example, \"part\" in \"part of the U.S.A.\" or \"length\" in \"length of 4000\".\n",
    "# This function builds a clause required to save such information.\n",
    "\n",
    "def getReasonableChunk(word, doc):\n",
    "    chunk_words = []\n",
    "    if word.pos_ == 'PROPN':\n",
    "        try:\n",
    "            chunks = list(x for x in doc.noun_chunks if x.root == word)[0]\n",
    "            chunk_words.extend(list(x for x in chunks))\n",
    "        except:\n",
    "            print 'no chunk with root ' + word.text\n",
    "    elif word.pos_ == 'NOUN':\n",
    "        nummods = list(x for x in word.children if x.dep_ == 'nummod')\n",
    "        chunk_words.append(word)\n",
    "        chunk_words.extend(nummods)\n",
    "        \n",
    "        dets = list(x for x in word.children if x.dep_ == 'det')\n",
    "        chunk_words.extend(dets)\n",
    "        \n",
    "        compunds = list(x for x in word.children if x.dep_ == 'compound')\n",
    "        chunk_words.extend(compunds)\n",
    "    else:\n",
    "        chunk_words.append(word)\n",
    "\n",
    "        \n",
    "    prepositions = list(x for x in word.children if x.dep_ == 'prep')\n",
    "    pobjects = []\n",
    "    for prep in prepositions:\n",
    "        pobjects = list(x for x in prep.children if x.dep_ == 'pobj')\n",
    "        if len(pobjects) > 0:\n",
    "            chunk_words.append(prep)\n",
    "            for s in pobjects:\n",
    "                chunk_words.extend(getReasonableChunk(s, doc))\n",
    "                    \n",
    "    return chunk_words"
   ]
  },
  {
   "cell_type": "code",
   "execution_count": 8,
   "metadata": {},
   "outputs": [],
   "source": [
    "# convert list of lists of words to text (form readable sentences)\n",
    "def wordsToSimpleText(sentence_words):\n",
    "    text = ''\n",
    "    for words in sentence_words:\n",
    "        sentence_text = ''\n",
    "        for word in words:\n",
    "            sentence_text += word.text + ' '\n",
    "            \n",
    "        if len(sentence_text) > 0:\n",
    "            sentence_text = sentence_text[0].upper() + sentence_text[1:]\n",
    "            sentence_text += '. '\n",
    "            \n",
    "            text += sentence_text\n",
    "    return text"
   ]
  },
  {
   "cell_type": "code",
   "execution_count": 9,
   "metadata": {},
   "outputs": [],
   "source": [
    "# main baseline function\n",
    "# build set of simple sentences based on each verb's subtree in a complex sentence\n",
    "# input: spacy.doc with complex sentences\n",
    "# output: text with one or more simple sentences\n",
    "\n",
    "def subjVerbObjToSentence(sentence):\n",
    "    verbs = list(x for x in sentence if x.pos_ == 'VERB')\n",
    "    new_sentences = []\n",
    "    for v in verbs:\n",
    "        new_sent_words = [v]\n",
    "        has_sence = False\n",
    "        \n",
    "        ouxilaries = list(x for x in v.children if (x.dep_ == 'aux') or (x.dep_ == 'auxpass'))\n",
    "        new_sent_words.extend(ouxilaries)\n",
    "        \n",
    "        subjects = list(x for x in v.children if (x.dep_ == 'nsubj') or (x.dep_ == 'nsubjpass'))\n",
    "        if len(subjects) > 0:\n",
    "            has_sence = True\n",
    "            for s in subjects:\n",
    "                new_sent_words.extend(getReasonableChunk(s, sentence))\n",
    "\n",
    "        attributes = list(x for x in v.children if (x.dep_ == 'attr'))\n",
    "        if len(attributes) > 0:\n",
    "            has_sence = True\n",
    "            for s in attributes:\n",
    "                new_sent_words.extend(getReasonableChunk(s, sentence))\n",
    "                \n",
    "        dobjects = list(x for x in v.children if x.dep_ == 'dobj')\n",
    "        if len(dobjects) > 0:\n",
    "            has_sence = True\n",
    "            for s in dobjects:\n",
    "                new_sent_words.extend(getReasonableChunk(s, sentence))\n",
    "            \n",
    "        prepositions = list(x for x in v.children if x.dep_ == 'prep')\n",
    "        pobjects = []\n",
    "        for prep in prepositions:\n",
    "            pobjects = list(x for x in prep.children if x.dep_ == 'pobj')\n",
    "            if len(pobjects) > 0:\n",
    "                has_sence = True\n",
    "                new_sent_words.append(prep)\n",
    "                for s in pobjects:\n",
    "                    new_sent_words.extend(getReasonableChunk(s, sentence))\n",
    "\n",
    "        if v.dep_ == 'conj':\n",
    "            subjects = list(x for x in v.head.children if (x.dep_ == 'nsubj') or (x.dep_ == 'nsubjpass'))\n",
    "            if len(subjects) > 0:\n",
    "                has_sence = True\n",
    "                for s in subjects:\n",
    "                    new_sent_words.extend(getReasonableChunk(s, sentence))\n",
    "        \n",
    "        new_sent_words = sorted(new_sent_words, key=lambda x: x.i)\n",
    "        \n",
    "        if has_sence == True:\n",
    "            new_sentences.append(new_sent_words)\n",
    "    \n",
    "    simple_text = wordsToSimpleText(new_sentences)\n",
    "    return simple_text\n"
   ]
  },
  {
   "cell_type": "markdown",
   "metadata": {},
   "source": [
    "# Read and preprocess data"
   ]
  },
  {
   "cell_type": "code",
   "execution_count": 10,
   "metadata": {},
   "outputs": [
    {
     "name": "stdout",
     "output_type": "stream",
     "text": [
      "4931 1272\n"
     ]
    }
   ],
   "source": [
    "## main1 ##\n",
    "compl_to_sim = {}\n",
    "compl_to_sim = readNewselaData(compl_to_sim)\n",
    "compl_to_sim = readDBPediaData(compl_to_sim)\n",
    "train, test = splitTrainTest(compl_to_sim)\n",
    "print len(train), len(test)"
   ]
  },
  {
   "cell_type": "markdown",
   "metadata": {},
   "source": [
    "# Get some examples of baseline results"
   ]
  },
  {
   "cell_type": "code",
   "execution_count": 11,
   "metadata": {
    "scrolled": true
   },
   "outputs": [
    {
     "name": "stdout",
     "output_type": "stream",
     "text": [
      "\n",
      "\n",
      "complex sentence: \n",
      "Afonso Pena Airport , located in Sao Jose dos Pinhais , has a runway length of 2215.0 and a runway name of 11/29 .\n",
      "simple_text_given: \n",
      "Afonso Pena International Airport runway length is 2215.0 . Afonso Pena International Airport is located in Sao Jose dos Pinhais . Afonso Pena International Airport has the runway name 11/29 .\n",
      "simple_text_generated: \n",
      "Located in Sao Jose dos Pinhais . Afonso Pena Airport has a runway length of 2215.0 . \n",
      "\n",
      "\n",
      "complex sentence: \n",
      "\"Plains Indians include Lakota , Blackfoot and Nez Perce .\"\n",
      "simple_text_given: \n",
      "\"  Some of the most famous groups are the Lakota , Blackfoot and Nez Perce .\"\n",
      "\n",
      "simple_text_generated: \n",
      "Plains Indians include Lakota . \n",
      "\n",
      "\n",
      "complex sentence: \n",
      "With the capital of Cape Town , South Africa is the location of 11 Diagonal Street and has the ethnic groups of Asian South Africans and white South Africans .\n",
      "simple_text_given: \n",
      "The address , 11 Diagonal Street is located in South Africa . In South Africa there is an ethnic group of Asian South Africans . Cape Town is the capital of South Africa . The white South Africans are an ethnic group of South Africa .\n",
      "simple_text_generated: \n",
      "With the capital of Cape Town South Africa is the location of 11 Diagonal Street . South Africa has the groups of Asian South Africans . \n",
      "\n",
      "\n",
      "complex sentence: \n",
      "Adare Manor is located in Adare , Munster , County Limerick , which is governed by the Limerick City and County Council .\n",
      "simple_text_given: \n",
      "Adare Manor is in Adare , Munster , County Limerick . Limerick City and County Council governs County Limerick .\n",
      "simple_text_generated: \n",
      "Adare Manor is located in Adare . Which is governed . \n",
      "\n",
      "\n",
      "complex sentence: \n",
      "200 Public Square in the United States has 45 floors , a total area of 111484 square metres and was completed in 1985 .\n",
      "simple_text_given: \n",
      "200 Public Square , located in the United States , has 45 floors . 200 Public Square is 111484 square metres . The 200 Public Square was completed in 1985 .\n",
      "simple_text_generated: \n",
      "200 Public Square in the United States has 45 floors . 200 Public Square in the United States was completed in 1985 . \n",
      "\n",
      "\n",
      "complex sentence: \n",
      "Built in 1904 and added to the National Register of Historic Places on 1980/04/23  , the Asser Levy Public Baths can be found in New York City .\n",
      "simple_text_given: \n",
      "Asser Levy Public Baths  are located in New York City . The Reference Number in the National Register of Historic Places of Asser Levy Public Baths is 80002709 . Asser Levy Public Baths was added to the National Register of Historic Places on `` 1980-04-23 '' .\n",
      "simple_text_generated: \n",
      "Built in 1904 . Added to the National Register of Historic Places on 1980/04/23 . The Asser Levy Public Baths can be found in New York City . \n",
      "\n",
      "\n",
      "complex sentence: \n",
      "The Asilomar Conference Grounds constructed in 1913 at Pacific Grove , California is based on the architecture style of `` Arts and Crafts Movement and American craftsman Bungalows '' .\n",
      "simple_text_given: \n",
      "Asilomar Conference Grounds are located in Pacific Grove , California . The Asilomar Conference Grounds was constructed in 1913 . Asilomar Conference Grounds is designed based on the architecture style of `` Arts and Crafts Movement and American craftsman Bungalows '' .\n",
      "simple_text_generated: \n",
      "The Asilomar Conference Grounds constructed in 1913 at Pacific Grove . California is based on the architecture style of `` Arts and Crafts Movement . \n",
      "\n",
      "\n",
      "complex sentence: \n",
      "The 11th Mississippi Infantry Monument is located in Adams County , Pennsylvania falls under the category of Contributing property .\n",
      "simple_text_given: \n",
      "The location of the 11th Mississippi Infantry Monument is Adams County , Pennsylvania . The 11th Mississippi Infantry Monument is categorised as a contributing property .\n",
      "simple_text_generated: \n",
      "The 11th Mississippi Infantry Monument is located in Adams County . Pennsylvania falls under the category . Contributing property . \n",
      "\n",
      "\n",
      "complex sentence: \n",
      "The United States , which includes the ethnic group of Asian Americans , is the location of Akron , Summit County , Ohio .\n",
      "simple_text_given: \n",
      "Akron , Ohio is located in the U.S. Asian Americans are an ethnic group in the U.S. Akron is in Summit County , Ohio .\n",
      "simple_text_generated: \n",
      "Which includes the group of Asian Americans . The United States is the location of Akron . \n",
      "\n",
      "\n",
      "complex sentence: \n",
      "Adirondack Regional Airport serves Lake Placid and the city of Saranac Lake , New York .\n",
      "simple_text_given: \n",
      "Lake Placid , N.Y. is served by the Adirondack Regional Airport . Adirondack Regional Airport serves the city of Saranac Lake , New York .\n",
      "simple_text_generated: \n",
      "Adirondack Regional Airport serves Lake Placid . \n",
      "\n",
      "\n",
      "complex sentence: \n",
      "\"In Greece and the wider Aegean , local , regional and international trade exchange existed from Minoan and Mycenaean times in the Bronze Age . \"\n",
      "simple_text_given: \n",
      "\"The Greeks began trading about 4,600 years ago . They bought and sold goods from their neighbors .\"\n",
      "\n",
      "simple_text_generated: \n",
      "In Greece existed from Minoan . \n",
      "\n",
      "\n",
      "complex sentence: \n",
      "\" Look for mammals such as Virginia opossums , groundhogs , brown bats and flying squirrels . \"\n",
      "simple_text_given: \n",
      "There are many different kinds of animals and birds . Groundhogs and brown bats live in D.C. \n",
      "\n",
      "simple_text_generated: \n",
      "Look for mammals as Virginia opossums . \n",
      "\n",
      "\n",
      "complex sentence: \n",
      "\"The Rocky Mountains region runs from northeastern Utah through the center of the state . It includes the 13,528-foot Kings Peak , Utah's highest point .\"\n",
      "simple_text_given: \n",
      "The Rocky Mountains region starts in northeastern Utah . It runs through the middle of the state . Kings Peak is there . It is the highest point in Utah .\n",
      "\n",
      "simple_text_generated: \n",
      "The Mountains region runs from northeastern Utah through the center of the state . It includes the 13,528-foot Kings Peak . \n",
      "\n",
      "\n",
      "complex sentence: \n",
      "The US Air Force is the operating organisation for Al Asad airbase , where the general Dynamics F-16 Fighting Falcon was involved in Operating Enduring Freedom .\n",
      "simple_text_given: \n",
      "The United States Air Force , who operated Al Asad airbase , deploy the aircraft fighter known as General Dynamics F-16 Fighting Falcon . The Operation Enduring Freedom is one of the battles of the United States Air Force .\n",
      "simple_text_generated: \n",
      "The US Air Force is the organisation for Asad airbase . The general Dynamics F-16 Fighting Falcon was involved in Operating Enduring Freedom . \n",
      "\n",
      "\n",
      "complex sentence: \n",
      "Andrews County Airport is located in Texas where English is the spoken language .\n",
      "simple_text_given: \n",
      "Andrews County Airport is located in Texas . The language spoken in Texas is English .\n",
      "simple_text_generated: \n",
      "Andrews County Airport is located in Texas . English is the language . \n",
      "\n",
      "\n",
      "complex sentence: \n",
      "The city of Anderson is part of Anderson Township , Madison County , Indiana in the United States .\n",
      "simple_text_given: \n",
      "Anderson , Indiana is part of Anderson Township , Madison County , Indiana . Anderson is a city in Indiana . Indiana is in the U.S.\n",
      "simple_text_generated: \n",
      "The city of Anderson is part of Anderson Township . \n",
      "\n",
      "\n",
      "complex sentence: \n",
      "Auburn , Alabama is in the United States where the official language is English .\n",
      "simple_text_given: \n",
      "Auburn , Alabama is in the United States . English is the language spoken in the United States .\n",
      "simple_text_generated: \n",
      "Auburn is in the United States . The language is . \n",
      "\n",
      "\n",
      "complex sentence: \n",
      "The 14th New Jersey Volunteer Infantry Monument belongs to the category of Historic districts and is located in United States .\n",
      "simple_text_given: \n",
      "14th New Jersey Volunteer Infantry Monument located in United States . The 14th New Jersey Volunteer Infantry Monument is categorised as a historic district in the United States .\n",
      "simple_text_generated: \n",
      "The 14th New Jersey Volunteer Infantry Monument belongs to the category of districts . The 14th New Jersey Volunteer Infantry Monument is located in United States . \n",
      "\n",
      "\n",
      "complex sentence: \n",
      "The location of Alpena County Regional Airport is Maple Ridge Township , Alpena County , Michigan , United States and it has a 1533 meters runway .\n",
      "simple_text_given: \n",
      "Alpena County Regional Airport is in Maple Ridge Township , Alpena County , Michigan in the U.S.A. The runway length of Alpena County Regional airport is 1533.0 .\n",
      "simple_text_generated: \n",
      "The location of Alpena County Regional Airport is Maple Ridge Township . The location of Alpena County Regional Airport it has a meters runway . \n",
      "\n",
      "\n",
      "complex sentence: \n",
      "Andrews County Airport is located in Texas within the United States , the people of Texas are referred to as Texans and the local language is English .\n",
      "simple_text_given: \n",
      "Andrews County Airport is located in Texas where they speak English . The people of Texas are known as Texans . Texas is located in the United States .\n",
      "simple_text_generated: \n",
      "Andrews County Airport is located in Texas within the United States . The people of Texas are referred . \n"
     ]
    }
   ],
   "source": [
    "i = 0\n",
    "for compl, sim in test.iteritems():\n",
    "    i += 1\n",
    "    if i > 20:\n",
    "        break\n",
    "    doc = nlp(compl.decode('utf-8'), disable=['ner', 'textcat'])\n",
    "    simple_text = subjVerbObjToSentence(doc)\n",
    "\n",
    "    print '\\n\\ncomplex sentence: '\n",
    "    print doc.text\n",
    "    print 'simple_text_given: '\n",
    "    print sim\n",
    "    print 'simple_text_generated: '\n",
    "    print simple_text"
   ]
  },
  {
   "cell_type": "markdown",
   "metadata": {},
   "source": [
    "# Get baseline results for all items in test set"
   ]
  },
  {
   "cell_type": "code",
   "execution_count": 12,
   "metadata": {},
   "outputs": [
    {
     "name": "stdout",
     "output_type": "stream",
     "text": [
      "no chunk with root Americans\n"
     ]
    }
   ],
   "source": [
    "## main2 ##\n",
    "baseline_result = {}\n",
    "for compl, sim in test.iteritems():\n",
    "    doc = nlp(compl.decode('utf-8'), disable=['ner', 'textcat'])\n",
    "    simple_text = subjVerbObjToSentence(doc)\n",
    "    baseline_result[compl] = simple_text"
   ]
  },
  {
   "cell_type": "markdown",
   "metadata": {},
   "source": [
    "# Calculate simplicity metrics"
   ]
  },
  {
   "cell_type": "code",
   "execution_count": 19,
   "metadata": {},
   "outputs": [
    {
     "name": "stdout",
     "output_type": "stream",
     "text": [
      "Error(ASyPW): Number of words are zero, cannot divide\n",
      "baseline evaluation error\n",
      "Error(ASyPW): Number of words are zero, cannot divide\n",
      "baseline evaluation error\n",
      "Error(ASyPW): Number of words are zero, cannot divide\n",
      "baseline evaluation error\n",
      "Error(ASyPW): Number of words are zero, cannot divide\n",
      "baseline evaluation error\n",
      "Error(ASyPW): Number of words are zero, cannot divide\n",
      "baseline evaluation error\n",
      "Error(ASyPW): Number of words are zero, cannot divide\n",
      "baseline evaluation error\n",
      "Error(ASyPW): Number of words are zero, cannot divide\n",
      "baseline evaluation error\n",
      "Error(ASyPW): Number of words are zero, cannot divide\n",
      "baseline evaluation error\n",
      "Error(ASyPW): Number of words are zero, cannot divide\n",
      "baseline evaluation error\n",
      "Error(ASyPW): Number of words are zero, cannot divide\n",
      "baseline evaluation error\n"
     ]
    }
   ],
   "source": [
    "## main 3 ##\n",
    "simplicity_metrics = {}\n",
    "\n",
    "simplicity_metrics[\"lexicon_count\"] = {}\n",
    "simplicity_metrics[\"lexicon_count\"][\"compl\"] = []\n",
    "simplicity_metrics[\"lexicon_count\"][\"simple_gold\"] = []\n",
    "simplicity_metrics[\"lexicon_count\"][\"baseline\"] = []\n",
    "\n",
    "simplicity_metrics[\"flesch_reading_ease\"] = {}\n",
    "simplicity_metrics[\"flesch_reading_ease\"][\"compl\"] = []\n",
    "simplicity_metrics[\"flesch_reading_ease\"][\"simple_gold\"] = []\n",
    "simplicity_metrics[\"flesch_reading_ease\"][\"baseline\"] = []\n",
    "\n",
    "simplicity_metrics[\"flesch_kincaid\"] = {}\n",
    "simplicity_metrics[\"flesch_kincaid\"][\"compl\"] = []\n",
    "simplicity_metrics[\"flesch_kincaid\"][\"simple_gold\"] = []\n",
    "simplicity_metrics[\"flesch_kincaid\"][\"baseline\"] = []\n",
    "\n",
    "simplicity_metrics[\"automated_readability\"] = {}\n",
    "simplicity_metrics[\"automated_readability\"][\"compl\"] = []\n",
    "simplicity_metrics[\"automated_readability\"][\"simple_gold\"] = []\n",
    "simplicity_metrics[\"automated_readability\"][\"baseline\"] = []\n",
    "\n",
    "simplicity_metrics[\"difficult_words\"] = {}\n",
    "simplicity_metrics[\"difficult_words\"][\"compl\"] = []\n",
    "simplicity_metrics[\"difficult_words\"][\"simple_gold\"] = []\n",
    "simplicity_metrics[\"difficult_words\"][\"baseline\"] = []\n",
    "\n",
    "simplicity_metrics[\"linsear_write\"] = {}\n",
    "simplicity_metrics[\"linsear_write\"][\"compl\"] = []\n",
    "simplicity_metrics[\"linsear_write\"][\"simple_gold\"] = []\n",
    "simplicity_metrics[\"linsear_write\"][\"baseline\"] = []\n",
    "\n",
    "for compl, sim in test.iteritems():\n",
    "    try:\n",
    "        words_count = textstat.lexicon_count(compl)\n",
    "        simplicity_metrics[\"lexicon_count\"][\"compl\"].append(words_count)\n",
    "        simplicity_metrics[\"flesch_reading_ease\"][\"compl\"].append(textstat.flesch_reading_ease(compl))\n",
    "        simplicity_metrics[\"flesch_kincaid\"][\"compl\"].append(textstat.flesch_kincaid_grade(compl))\n",
    "        simplicity_metrics[\"automated_readability\"][\"compl\"].append(textstat.automated_readability_index(compl))\n",
    "        simplicity_metrics[\"difficult_words\"][\"compl\"].append(textstat.difficult_words(compl) / float(words_count))\n",
    "        simplicity_metrics[\"linsear_write\"][\"compl\"].append(textstat.linsear_write_formula(compl))\n",
    "    except:\n",
    "        print 'complex evaluation error'\n",
    "        continue\n",
    "    \n",
    "    try:\n",
    "        words_count = textstat.lexicon_count(sim)\n",
    "        simplicity_metrics[\"lexicon_count\"][\"simple_gold\"].append(words_count)\n",
    "        simplicity_metrics[\"flesch_reading_ease\"][\"simple_gold\"].append(textstat.flesch_reading_ease(sim))\n",
    "        simplicity_metrics[\"flesch_kincaid\"][\"simple_gold\"].append(textstat.flesch_kincaid_grade(sim))\n",
    "        simplicity_metrics[\"automated_readability\"][\"simple_gold\"].append(textstat.automated_readability_index(sim))\n",
    "        simplicity_metrics[\"difficult_words\"][\"simple_gold\"].append(textstat.difficult_words(sim) / float(words_count))\n",
    "        simplicity_metrics[\"linsear_write\"][\"simple_gold\"].append(textstat.linsear_write_formula(sim))\n",
    "    except:\n",
    "        print 'simple_gold evaluation error'\n",
    "        continue\n",
    "        \n",
    "    try:\n",
    "        words_count = textstat.lexicon_count(baseline_result[compl])\n",
    "        simplicity_metrics[\"lexicon_count\"][\"baseline\"].append(words_count)\n",
    "        simplicity_metrics[\"flesch_reading_ease\"][\"baseline\"].append(textstat.flesch_reading_ease(baseline_result[compl]))\n",
    "        simplicity_metrics[\"flesch_kincaid\"][\"baseline\"].append(textstat.flesch_kincaid_grade(baseline_result[compl]))\n",
    "        simplicity_metrics[\"automated_readability\"][\"baseline\"].append(textstat.automated_readability_index(baseline_result[compl]))\n",
    "        simplicity_metrics[\"difficult_words\"][\"baseline\"].append(textstat.difficult_words(baseline_result[compl]) / float(words_count))\n",
    "        simplicity_metrics[\"linsear_write\"][\"baseline\"].append(textstat.linsear_write_formula(baseline_result[compl]))\n",
    "    except:\n",
    "        print 'baseline evaluation error'\n",
    "        continue\n",
    "\n"
   ]
  },
  {
   "cell_type": "raw",
   "metadata": {},
   "source": [
    "We can see that for some sentences (~10 / 1200) baseline cannot build simplified sentence. This fact is to be fixed in final solution. "
   ]
  },
  {
   "cell_type": "markdown",
   "metadata": {},
   "source": [
    "# Display simplicity metrics results"
   ]
  },
  {
   "cell_type": "code",
   "execution_count": 21,
   "metadata": {},
   "outputs": [
    {
     "data": {
      "image/png": "[encoded data removed]",
      "text/plain": [
       "<Figure size 432x288 with 1 Axes>"
      ]
     },
     "metadata": {},
     "output_type": "display_data"
    },
    {
     "data": {
      "image/png": "[encoded data removed]",
      "text/plain": [
       "<Figure size 432x288 with 1 Axes>"
      ]
     },
     "metadata": {},
     "output_type": "display_data"
    },
    {
     "data": {
      "image/png": "[encoded data removed]",
      "text/plain": [
       "<Figure size 432x288 with 1 Axes>"
      ]
     },
     "metadata": {},
     "output_type": "display_data"
    },
    {
     "data": {
      "image/png": "[encoded data removed]",
      "text/plain": [
       "<Figure size 432x288 with 1 Axes>"
      ]
     },
     "metadata": {},
     "output_type": "display_data"
    },
    {
     "data": {
      "image/png": "[encoded data removed]",
      "text/plain": [
       "<Figure size 432x288 with 1 Axes>"
      ]
     },
     "metadata": {},
     "output_type": "display_data"
    },
    {
     "data": {
      "image/png": "[encoded data removed]",
      "text/plain": [
       "<Figure size 432x288 with 1 Axes>"
      ]
     },
     "metadata": {},
     "output_type": "display_data"
    }
   ],
   "source": [
    "## main 4 ##\n",
    "\n",
    "metrics_trends = {}\n",
    "metrics_trends[\"lexicon_count\"] = \"Number of words. Should be more than original text value, but not much.\"\n",
    "metrics_trends[\"flesch_reading_ease\"] = \"Reading Ease Score. 0 - difficult, 100 - easy.\"\n",
    "metrics_trends[\"flesch_kincaid\"] = \"Reader Level Required. Less the better.\"\n",
    "metrics_trends[\"automated_readability\"] = \"Reader Level Required. Less the better.\"\n",
    "metrics_trends[\"difficult_words\"] = \"Fraction of difficult words from in-built vocabulary. Less the better.\"\n",
    "metrics_trends[\"linsear_write\"] = \"Reader Level Required. Less the better.\"\n",
    "\n",
    "for name, results in simplicity_metrics.iteritems():\n",
    "    fig = plt.figure()\n",
    "    titles = [\"complex\", \"simple_gold\", \"simple_baseline\"]\n",
    "    data = [results[\"compl\"], results[\"simple_gold\"], results[\"baseline\"]]\n",
    "    plt.boxplot(data, positions = [1,2,3], widths = 0.7)\n",
    "    plt.xticks([1,2,3], titles)\n",
    "    fig.suptitle(name + ' -- ' + metrics_trends[name])\n"
   ]
  },
  {
   "cell_type": "raw",
   "metadata": {},
   "source": [
    "What we can say about baseline simplicity:\n",
    " - Grade level of the text reader is fine - close to simple texts given, less than level requred for complex texts.\n",
    " - Number of words in sentence is too small. It means a lot of information is missed - this aspect is to be improved.\n",
    " - Fraction of difficult words is the same as in complex texts. Baseline does not simplify words. This simplification is to be added."
   ]
  },
  {
   "cell_type": "markdown",
   "metadata": {},
   "source": [
    "# Calculate similarity metrics"
   ]
  },
  {
   "cell_type": "code",
   "execution_count": 15,
   "metadata": {},
   "outputs": [],
   "source": [
    "# save results to text files readable for metrics lib\n",
    "with open(\"../dataset/test_simple.txt\", \"w\") as h:\n",
    "    for compl, sim in test.iteritems():\n",
    "        if (len(sim) > 10) and (len(compl) > 10) and (len(baseline_result[compl]) > 10):\n",
    "            sim = sim.replace(\"\\n\", \"\")\n",
    "            sim += \"\\n\"\n",
    "            h.write(sim.encode('utf-8'))\n",
    "                \n",
    "with open(\"../dataset/test_complex.txt\", \"w\") as r:\n",
    "    for compl, sim in test.iteritems():\n",
    "        if (len(sim) > 10) and (len(compl) > 10) and (len(baseline_result[compl]) > 10):\n",
    "            compl = compl.replace(\"\\n\", \"\")\n",
    "            compl += \"\\n\"\n",
    "            r.write(compl.encode('utf-8'))\n",
    "            \n",
    "with open(\"../dataset/test_baseline.txt\", \"w\") as r:\n",
    "    for compl, sim in test.iteritems():\n",
    "        if (len(sim) > 10) and (len(compl) > 10) and (len(baseline_result[compl]) > 10):\n",
    "            line = baseline_result[compl]\n",
    "            line = line.replace(\"\\n\", \"\")\n",
    "            line += \"\\n\"\n",
    "            r.write(line.encode('utf-8'))"
   ]
  },
  {
   "cell_type": "code",
   "execution_count": 16,
   "metadata": {},
   "outputs": [
    {
     "name": "stdout",
     "output_type": "stream",
     "text": [
      "1262\n",
      "1262\n",
      "1262\n"
     ]
    }
   ],
   "source": [
    "# check number of lines\n",
    "with open(\"../dataset/test_simple.txt\", \"r\") as h:\n",
    "    l = h.readlines()\n",
    "    print len(l)\n",
    "with open(\"../dataset/test_complex.txt\", \"r\") as r:\n",
    "    l = r.readlines()\n",
    "    print len(l)\n",
    "with open(\"../dataset/test_baseline.txt\", \"r\") as r:\n",
    "    l = r.readlines()\n",
    "    print len(l)"
   ]
  },
  {
   "cell_type": "code",
   "execution_count": 17,
   "metadata": {},
   "outputs": [
    {
     "name": "stdout",
     "output_type": "stream",
     "text": [
      "Bleu_1: 0.716458\n",
      "Bleu_2: 0.639674\n",
      "Bleu_3: 0.572202\n",
      "Bleu_4: 0.510325\n",
      "METEOR: 0.384802\n",
      "ROUGE_L: 0.693468\n",
      "CIDEr: 2.374815\n",
      "SkipThoughtsCosineSimilairty: 0.842285\n",
      "EmbeddingAverageCosineSimilairty: 0.924820\n",
      "VectorExtremaCosineSimilarity: 0.844452\n",
      "GreedyMatchingScore: 0.949031\n"
     ]
    }
   ],
   "source": [
    "# calculate metrics for correspondence of generated sentence to gold-simple sentences\n",
    "metrics_dict = compute_metrics(hypothesis=\"../dataset/test_baseline.txt\",\n",
    "                               references=[\"../dataset/test_simple.txt\"])"
   ]
  },
  {
   "cell_type": "raw",
   "metadata": {},
   "source": [
    "This result is difficult to interpret, it just can be compared with next model results."
   ]
  }
 ],
 "metadata": {
  "kernelspec": {
   "display_name": "Python 2",
   "language": "python",
   "name": "python2"
  },
  "language_info": {
   "codemirror_mode": {
    "name": "ipython",
    "version": 2
   },
   "file_extension": ".py",
   "mimetype": "text/x-python",
   "name": "python",
   "nbconvert_exporter": "python",
   "pygments_lexer": "ipython2",
   "version": "2.7.12"
  }
 },
 "nbformat": 4,
 "nbformat_minor": 2
}
