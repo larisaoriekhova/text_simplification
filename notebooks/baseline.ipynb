{
 "cells": [
  {
   "cell_type": "code",
   "execution_count": 2,
   "metadata": {},
   "outputs": [],
   "source": [
    "import random\n",
    "import json\n",
    "import re\n",
    "import os\n",
    "import bz2\n",
    "import spacy\n",
    "nlp = spacy.load('en', disable=['ner', 'textcat'])\n",
    "\n",
    "from textstat.textstat import textstat\n",
    "import matplotlib.pyplot as plt\n",
    "\n",
    "from nlgeval import compute_metrics\n",
    "import kenlm"
   ]
  },
  {
   "cell_type": "markdown",
   "metadata": {},
   "source": [
    "# Functions to read and prepare data"
   ]
  },
  {
   "cell_type": "code",
   "execution_count": 3,
   "metadata": {},
   "outputs": [],
   "source": [
    "# extract complex and simple sentences and text category \n",
    "# from all data for one sentence in DBPedia dataset\n",
    "\n",
    "def parseSentenceData(data):\n",
    "    data = data.strip().split(\"\\n\\n\")\n",
    "    \n",
    "    complexsentdata = data[0].strip().split(\"\\n\")\n",
    "    complexid = int(complexsentdata[0].split(\"-\")[1].strip())\n",
    "    complexsent = complexsentdata[1].strip()\n",
    "\n",
    "    cat = '' \n",
    "    mr_dict = {}\n",
    "    # Collect all complex mrs\n",
    "    for item in data[1:]:\n",
    "        if re.match('COMPLEX-'+str(complexid)+':MR-[0-9]*\\n', item):\n",
    "            # print item\n",
    "            mrdata = item.strip().split(\"\\n\")\n",
    "            mrid = mrdata[0]\n",
    "            mr = mrdata[1]\n",
    "            if re.match('category=[a-zA-Z]* eid=Id[0-9]* size=[0-9]*', mr):\n",
    "                cat = mr.strip().split(' ')[0].split('=')[1]\n",
    "            mr_dict[mrid] = [mr, {}]\n",
    "    \n",
    "    simpsents = {}\n",
    "    for item in data[1:]:\n",
    "        if re.match('COMPLEX-'+str(complexid)+':MR-[0-9]*:SIMPLE-[0-9]*\\n', item):\n",
    "            \n",
    "            mrid = \":\".join(item.strip().split(\"\\n\")[0].split(\":\")[:2])\n",
    "\n",
    "            sents = (\" \".join(item.strip().split(\"\\n\")[1:])).strip()\n",
    "            \n",
    "            if sents not in simpsents:\n",
    "                simpsents[sents] = 1\n",
    "\n",
    "            if sents not in mr_dict[mrid][1]:\n",
    "                mr_dict[mrid][1][sents] = 1\n",
    "\n",
    "    return complexsent, simpsents, cat"
   ]
  },
  {
   "cell_type": "code",
   "execution_count": 42,
   "metadata": {},
   "outputs": [],
   "source": [
    "# remove some frequent garbage from sentences \n",
    "def preprocessSentence(text):\n",
    "    text = re.sub('-LRB-(.*?)-RRB-', '', text)\n",
    "    text = re.sub('^\\\"', '', text)\n",
    "    text = re.sub('\\\"$', '', text)\n",
    "    return text"
   ]
  },
  {
   "cell_type": "code",
   "execution_count": 37,
   "metadata": {},
   "outputs": [],
   "source": [
    "# Read DBPedia dataset\n",
    "def readDBPediaData(compl_to_sim):\n",
    "    filename = '../dataset/complexsimple.txt.bz2'\n",
    "    with bz2.BZ2File(filename, \"r\") as content:         \n",
    "        sentdata = []\n",
    "        i = 0\n",
    "        close_to_geo_categories = ['Monument', 'City', 'Airport', 'Building']\n",
    "\n",
    "        for line in content:\n",
    "            if len(sentdata) == 0:\n",
    "                sentdata.append(line)\n",
    "            else:\n",
    "                if re.match('COMPLEX-[0-9]*\\n', line):\n",
    "                    complexsent, simpsents, cat = parseSentenceData(\"\".join(sentdata))\n",
    "                    simple_sen = simpsents.keys()[0]\n",
    "                    \n",
    "                    if (cat in close_to_geo_categories) and (len(simple_sen) > 0):\n",
    "                        compl_to_sim[preprocessSentence(complexsent)] = preprocessSentence(simple_sen)\n",
    "                    sentdata = [line]\n",
    "                else:\n",
    "                    sentdata.append(line)\n",
    "    return compl_to_sim"
   ]
  },
  {
   "cell_type": "code",
   "execution_count": 43,
   "metadata": {},
   "outputs": [],
   "source": [
    "# read Newsela dataset\n",
    "def readNewselaData(compl_to_sim):\n",
    "    with bz2.BZ2File('../dataset/clear_newsela.txt.bz2', \"r\") as content:         \n",
    "        for line in content:\n",
    "            texts = line.split('\\t')\n",
    "\n",
    "            if len(texts) != 3:\n",
    "#                 print 'wrong line: ', len(texts), line\n",
    "                continue\n",
    "            if (len(texts[0]) < 10) or (len(texts[1]) < 10):\n",
    "#                 print 'empty line: ', line\n",
    "                continue\n",
    "                \n",
    "            compl_to_sim[preprocessSentence(texts[0])] = preprocessSentence(texts[1])\n",
    "    return compl_to_sim"
   ]
  },
  {
   "cell_type": "code",
   "execution_count": 44,
   "metadata": {},
   "outputs": [],
   "source": [
    "# split data to train and test set\n",
    "def splitTrainTest(compl_to_sim):\n",
    "    train = {}\n",
    "    test = {}\n",
    "\n",
    "    for compl, sim in compl_to_sim.iteritems():\n",
    "        try:\n",
    "            sim_u = sim.encode('utf-8')\n",
    "            compl_u = compl.encode('utf-8')\n",
    "        except:\n",
    "            continue\n",
    "        r = random.random()\n",
    "        if r < 0.8:\n",
    "            train[compl] = sim\n",
    "        else:\n",
    "            test[compl] = sim\n",
    "    return train, test"
   ]
  },
  {
   "cell_type": "markdown",
   "metadata": {},
   "source": [
    "# Functions for baseline logic"
   ]
  },
  {
   "cell_type": "code",
   "execution_count": 8,
   "metadata": {},
   "outputs": [],
   "source": [
    "# Some words does not make sense (or change sense) when used without dependent clause.\n",
    "# For example, \"part\" in \"part of the U.S.A.\" or \"length\" in \"length of 4000\".\n",
    "# This function builds a clause required to save such information.\n",
    "\n",
    "def getReasonableChunk(word, doc):\n",
    "    chunk_words = []\n",
    "    if word.pos_ == 'PROPN':\n",
    "        try:\n",
    "            chunks = list(x for x in doc.noun_chunks if x.root == word)[0]\n",
    "            chunk_words.extend(list(x for x in chunks))\n",
    "        except:\n",
    "            print 'no chunk with root ' + word.text\n",
    "    elif word.pos_ == 'NOUN':\n",
    "        nummods = list(x for x in word.children if x.dep_ == 'nummod')\n",
    "        chunk_words.append(word)\n",
    "        chunk_words.extend(nummods)\n",
    "        \n",
    "        dets = list(x for x in word.children if x.dep_ == 'det')\n",
    "        chunk_words.extend(dets)\n",
    "        \n",
    "        compunds = list(x for x in word.children if x.dep_ == 'compound')\n",
    "        chunk_words.extend(compunds)\n",
    "    else:\n",
    "        chunk_words.append(word)\n",
    "\n",
    "        \n",
    "    prepositions = list(x for x in word.children if x.dep_ == 'prep')\n",
    "    pobjects = []\n",
    "    for prep in prepositions:\n",
    "        pobjects = list(x for x in prep.children if x.dep_ == 'pobj')\n",
    "        if len(pobjects) > 0:\n",
    "            chunk_words.append(prep)\n",
    "            for s in pobjects:\n",
    "                chunk_words.extend(getReasonableChunk(s, doc))\n",
    "                    \n",
    "    return chunk_words"
   ]
  },
  {
   "cell_type": "code",
   "execution_count": 9,
   "metadata": {},
   "outputs": [],
   "source": [
    "# convert list of lists of words to text (form readable sentences)\n",
    "def wordsToSimpleText(sentence_words):\n",
    "    text = ''\n",
    "    for words in sentence_words:\n",
    "        sentence_text = ''\n",
    "        for word in words:\n",
    "            sentence_text += word.text + ' '\n",
    "            \n",
    "        if len(sentence_text) > 0:\n",
    "            sentence_text = sentence_text[0].upper() + sentence_text[1:]\n",
    "            sentence_text += '. '\n",
    "            \n",
    "            text += sentence_text\n",
    "    return text"
   ]
  },
  {
   "cell_type": "code",
   "execution_count": 10,
   "metadata": {},
   "outputs": [],
   "source": [
    "# main baseline function\n",
    "# build set of simple sentences based on each verb's subtree in a complex sentence\n",
    "# input: spacy.doc with complex sentences\n",
    "# output: text with one or more simple sentences\n",
    "\n",
    "def subjVerbObjToSentence(sentence):\n",
    "    verbs = list(x for x in sentence if x.pos_ == 'VERB')\n",
    "    new_sentences = []\n",
    "    for v in verbs:\n",
    "        new_sent_words = [v]\n",
    "        has_sence = False\n",
    "        \n",
    "        ouxilaries = list(x for x in v.children if (x.dep_ == 'aux') or (x.dep_ == 'auxpass'))\n",
    "        new_sent_words.extend(ouxilaries)\n",
    "        \n",
    "        subjects = list(x for x in v.children if (x.dep_ == 'nsubj') or (x.dep_ == 'nsubjpass'))\n",
    "        if len(subjects) > 0:\n",
    "            has_sence = True\n",
    "            for s in subjects:\n",
    "                new_sent_words.extend(getReasonableChunk(s, sentence))\n",
    "\n",
    "        attributes = list(x for x in v.children if (x.dep_ == 'attr'))\n",
    "        if len(attributes) > 0:\n",
    "            has_sence = True\n",
    "            for s in attributes:\n",
    "                new_sent_words.extend(getReasonableChunk(s, sentence))\n",
    "                \n",
    "        dobjects = list(x for x in v.children if x.dep_ == 'dobj')\n",
    "        if len(dobjects) > 0:\n",
    "            has_sence = True\n",
    "            for s in dobjects:\n",
    "                new_sent_words.extend(getReasonableChunk(s, sentence))\n",
    "            \n",
    "        prepositions = list(x for x in v.children if x.dep_ == 'prep')\n",
    "        pobjects = []\n",
    "        for prep in prepositions:\n",
    "            pobjects = list(x for x in prep.children if x.dep_ == 'pobj')\n",
    "            if len(pobjects) > 0:\n",
    "                has_sence = True\n",
    "                new_sent_words.append(prep)\n",
    "                for s in pobjects:\n",
    "                    new_sent_words.extend(getReasonableChunk(s, sentence))\n",
    "\n",
    "        if v.dep_ == 'conj':\n",
    "            subjects = list(x for x in v.head.children if (x.dep_ == 'nsubj') or (x.dep_ == 'nsubjpass'))\n",
    "            if len(subjects) > 0:\n",
    "                has_sence = True\n",
    "                for s in subjects:\n",
    "                    new_sent_words.extend(getReasonableChunk(s, sentence))\n",
    "        \n",
    "        new_sent_words = sorted(new_sent_words, key=lambda x: x.i)\n",
    "        \n",
    "        if has_sence == True:\n",
    "            new_sentences.append(new_sent_words)\n",
    "    \n",
    "    simple_text = wordsToSimpleText(new_sentences)\n",
    "    return simple_text\n"
   ]
  },
  {
   "cell_type": "markdown",
   "metadata": {},
   "source": [
    "# Functions for post-processing"
   ]
  },
  {
   "cell_type": "code",
   "execution_count": 72,
   "metadata": {},
   "outputs": [],
   "source": [
    "# get sequence of POS tags for a sentence\n",
    "def buildSentenceTemplate(sent):\n",
    "    templ = ''\n",
    "    for word in sent:\n",
    "        if word.pos_ != 'SPACE':\n",
    "            templ += word.pos_ + '_'\n",
    "            \n",
    "    templ = re.sub('PROPN_PUNCT_', 'PROPN_', templ)\n",
    "    templ = re.sub('(PROPN_)+', 'NOUN_', templ)\n",
    "    templ = re.sub('NUM_PUNCT_NUM_', 'NUM_', templ)\n",
    "    templ = re.sub('(PUNCT_)+', 'PUNCT_', templ)\n",
    "    templ = re.sub('PUNCT_$', '', templ)\n",
    "    \n",
    "    return templ"
   ]
  },
  {
   "cell_type": "code",
   "execution_count": 73,
   "metadata": {},
   "outputs": [],
   "source": [
    "# wide list of sentence templates using sentences from text\n",
    "# text - plain text of one or more sentences\n",
    "# sentence_templates - dictionary (template text -> frequency)\n",
    "\n",
    "def addTemplatesStats(texts, sentence_templates):\n",
    "    for text in texts:\n",
    "        doc = nlp(text.decode('utf-8'), disable=['ner', 'textcat'])\n",
    "        for sent in doc.sents:\n",
    "            templ = buildSentenceTemplate(sent)\n",
    "            if not sentence_templates.has_key(templ):\n",
    "                sentence_templates[templ] = 0\n",
    "            sentence_templates[templ] += 1\n",
    "\n",
    "    return sentence_templates   "
   ]
  },
  {
   "cell_type": "code",
   "execution_count": 74,
   "metadata": {},
   "outputs": [],
   "source": [
    "# get list of \"valid\" sentence templates - ones that appears \n",
    "# in sentence_templates dictionary more than frequency_threshold times\n",
    "def getPossibleSentenceTemplates(frequency_threshold, sentence_templates):\n",
    "    valid_templates = []\n",
    "    for templ, frequency in sentence_templates.iteritems():\n",
    "        if frequency >= frequency_threshold:\n",
    "            valid_templates.append(templ)\n",
    "            \n",
    "    return valid_templates"
   ]
  },
  {
   "cell_type": "code",
   "execution_count": 78,
   "metadata": {},
   "outputs": [],
   "source": [
    "# check if template of sentence is in list of 'valid' templates\n",
    "def hasValidTemplate(valid_templates, sentence):\n",
    "    template = buildSentenceTemplate(sentence)\n",
    "    if template in valid_templates:\n",
    "        return True\n",
    "    else:\n",
    "        return False"
   ]
  },
  {
   "cell_type": "code",
   "execution_count": 138,
   "metadata": {},
   "outputs": [],
   "source": [
    "# Remove sentences with not 'valid' template from the given text\n",
    "def removeUnlikeSentences(text, valid_templates):\n",
    "    final_text = ''\n",
    "    rejected_sents = []\n",
    "    doc = nlp(text.decode('utf-8'), disable=['ner', 'textcat'])\n",
    "    for sent in doc.sents:\n",
    "        if hasValidTemplate(valid_templates, sent) == True:\n",
    "            final_text += sent.text + ' '\n",
    "        else:\n",
    "            rejected_sents.append(sent.text)\n",
    "    return final_text, rejected_sents"
   ]
  },
  {
   "cell_type": "markdown",
   "metadata": {},
   "source": [
    "# Read and preprocess data"
   ]
  },
  {
   "cell_type": "code",
   "execution_count": 135,
   "metadata": {},
   "outputs": [
    {
     "name": "stdout",
     "output_type": "stream",
     "text": [
      "5398 1359\n"
     ]
    }
   ],
   "source": [
    "## main1 ##\n",
    "compl_to_sim = {}\n",
    "compl_to_sim = readNewselaData(compl_to_sim)\n",
    "compl_to_sim = readDBPediaData(compl_to_sim)\n",
    "train, test = splitTrainTest(compl_to_sim)\n",
    "print len(train), len(test)"
   ]
  },
  {
   "cell_type": "code",
   "execution_count": 136,
   "metadata": {},
   "outputs": [
    {
     "name": "stdout",
     "output_type": "stream",
     "text": [
      "3972\n"
     ]
    }
   ],
   "source": [
    "# get useful statistics from the whole dataset \n",
    "sentence_templates = {}\n",
    "sentence_templates = addTemplatesStats(train.values(), sentence_templates)\n",
    "sentence_templates = addTemplatesStats(test.values(), sentence_templates)\n",
    "valid_templates = getPossibleSentenceTemplates(1, sentence_templates)\n",
    "print len(valid_templates)"
   ]
  },
  {
   "cell_type": "raw",
   "metadata": {},
   "source": [
    "Postprocessing is not used now, because it does not contribute to system quality."
   ]
  },
  {
   "cell_type": "markdown",
   "metadata": {},
   "source": [
    "# Get some examples of baseline results"
   ]
  },
  {
   "cell_type": "code",
   "execution_count": 165,
   "metadata": {
    "scrolled": true
   },
   "outputs": [
    {
     "name": "stdout",
     "output_type": "stream",
     "text": [
      "\n",
      "\n",
      "complex sentence: \n",
      "Anaheim , California has a total area of 131.6 sq km and the area codes are 657 and 714 .\n",
      "simple_text_given: \n",
      "Anaheim in California has the area code : 657 , 714 . The total area of Anaheim California is 131.6 sq km .\n",
      "simple_text_generated: \n",
      "Anaheim has a area of 131.6 sq km . Anaheim the area codes are 657 . \n",
      "\n",
      "\n",
      "complex sentence: \n",
      "The Asilomar Conference Grounds constructed in 1913 at Pacific Grove , California is based on the architecture style of `` Arts and Crafts Movement and American craftsman Bungalows '' .\n",
      "simple_text_given: \n",
      "Asilomar Conference Grounds are located in Pacific Grove , California . The Asilomar Conference Grounds was constructed in 1913 . Asilomar Conference Grounds is designed based on the architecture style of `` Arts and Crafts Movement and American craftsman Bungalows '' .\n",
      "simple_text_generated: \n",
      "The Asilomar Conference Grounds constructed in 1913 at Pacific Grove . California is based on the architecture style of `` Arts and Crafts Movement . \n",
      "\n",
      "\n",
      "complex sentence: \n",
      "Iraq is one of the most culturally diverse nations in the Middle East . \n",
      "simple_text_given: \n",
      "Iraq is a diverse country . That means people of many cultures live there .\n",
      "simple_text_generated: \n",
      "Iraq is one of the nations in the Middle East . \n",
      "\n",
      "\n",
      "complex sentence: \n",
      "Albany , Oregon falls under Linn County Oregon , in the U.S , where Asian Americans are one of the ethnic groups .\n",
      "simple_text_given: \n",
      "Albany , Oregon is in the U.S. Asian Americans are an ethnic group in the U.S. Albany , Oregon falls under Linn County Oregon .\n",
      "simple_text_generated: \n",
      "Oregon falls under Linn County Oregon in the U.S . Asian Americans are one of the groups . \n",
      "\n",
      "\n",
      "complex sentence: \n",
      "North Dakota is bordered by Canada in the north , Minnesota in the east , South Dakota in the south and Montana in the west .\n",
      "simple_text_given: \n",
      "North Dakota touches three other states . It touches another country , too ! Canada is to the north . South Dakota is , well , south . Minnesota is to the east . Montana is to the west .  \n",
      "simple_text_generated: \n",
      "North Dakota is bordered in the north . \n",
      "\n",
      "\n",
      "complex sentence: \n",
      "The College of William and Mary is the owner of the Alan B. Miller Hall in Williamsburg , Virginia , which was built in the Georgian style of architecture .\n",
      "simple_text_given: \n",
      "Alan B Miller Hall is owned by The College of William and Mary and located in Williamsburg , Virginia . The architectural style of the Alan B Miller Hall is Georgian .\n",
      "simple_text_generated: \n",
      "The College of William is the owner of the Alan B. Miller Hall in Williamsburg . Which was built in the style of architecture . \n",
      "\n",
      "\n",
      "complex sentence: \n",
      "The Gombe Stream National Park is a well-known chimpanzee sanctuary where Jane Goodall did research on chimps in their natural habitat . Serengeti National Park is Tanzania's oldest and most popular park for tourists . \n",
      "simple_text_given: \n",
      "Tanzania is also home to chimpanzees . They live in Gombe Stream National Park . \n",
      "simple_text_generated: \n",
      "The Gombe Stream National Park is a chimpanzee . Jane Goodall did research on chimps in habitat . Serengeti National Park is park for tourists . \n",
      "\n",
      "\n",
      "complex sentence: \n",
      "Asher and Mary Isabelle Richardson House is located in Asherton , a part of Dimmit County , Texas .\n",
      "simple_text_given: \n",
      "Asher and Mary Isabelle Richardson House is located in Asherton , Texas . Asherton , Texas is part of Dimmit County , Texas .\n",
      "simple_text_generated: \n",
      "Asher is located in Asherton . \n",
      "\n",
      "\n",
      "complex sentence: \n",
      "Adirondack Regional Airport serves Lake Placid and the city of Saranac Lake , New York .\n",
      "simple_text_given: \n",
      "Lake Placid , N.Y. is served by the Adirondack Regional Airport . Adirondack Regional Airport serves the city of Saranac Lake , New York .\n",
      "simple_text_generated: \n",
      "Adirondack Regional Airport serves Lake Placid . \n",
      "\n",
      "\n",
      "complex sentence: \n",
      "Alexandria is part of Madison County Indiana in the United States .\n",
      "simple_text_given: \n",
      "Alexandria is located in Indiana . Indiana is in the U.S. Alexandria , Indiana , is part of Madison County .\n",
      "simple_text_generated: \n",
      "Alexandria is part of Madison County Indiana in the United States . \n",
      "\n",
      "\n",
      "complex sentence: \n",
      "Most immigration is fueled by poverty .\n",
      "simple_text_given: \n",
      "Most immigrants move because of poverty .\n",
      "simple_text_generated: \n",
      "Immigration is fueled . \n",
      "\n",
      "\n",
      "complex sentence: \n",
      "African Americans are an ethnic group in the United States and Akron Ohio is part of the U.S.\n",
      "simple_text_given: \n",
      "Akron Ohio is part of the U.S. African Americans are an ethnic group in the United States .\n",
      "simple_text_generated: \n",
      "African Americans are an group in the United States . African Americans is part of the U.S. . \n",
      "\n",
      "\n",
      "complex sentence: \n",
      "The Baku Turkish Martyrs ' Memorial is in Azerbaijan , where the leader is Artur Rasizade , and legislature is dictated by the National Assembly .\n",
      "simple_text_given: \n",
      "The Baku Turkish Martyrs ' Memorial is in Azerbaijan . Artur Rasizade was an Azerbaijan leader . The National Assembly is the legislative branch of government in Azerbaijan .\n",
      "simple_text_generated: \n",
      "The Baku Turkish Martyrs ' Memorial is in Azerbaijan . The leader is Artur Rasizade . The Baku Turkish Martyrs ' Memorial legislature is dictated . \n",
      "\n",
      "\n",
      "complex sentence: \n",
      "Andrews County Airport is located in Texas where English is the spoken language .\n",
      "simple_text_given: \n",
      "Andrews County Airport is located in Texas . The language spoken in Texas is English .\n",
      "simple_text_generated: \n",
      "Andrews County Airport is located in Texas . English is the language . \n",
      "\n",
      "\n",
      "complex sentence: \n",
      "Heat stress is the leading cause of weather-related death in the Southwest , with a greater number of deaths expected as heat waves increase in number , length and intensity . \n",
      "simple_text_given: \n",
      "This is expected to get worse . There will be more heat waves . They will be longer and more intense . \n",
      "simple_text_generated: \n",
      "Heat stress is the cause of death in the Southwest with a number of deaths . Heat waves increase in number . \n",
      "\n",
      "\n",
      "complex sentence: \n",
      "It's actually quite fun !\n",
      "simple_text_given: \n",
      "It's fun !\n",
      "simple_text_generated: \n",
      "It 's . \n",
      "\n",
      "\n",
      "complex sentence: \n",
      "300 North LaSalle is located in Chicago , United States .\n",
      "simple_text_given: \n",
      "300 North LaSalle is located in Chicago . Chicago is located in the U.S.\n",
      "simple_text_generated: \n",
      "300 North LaSalle is located in Chicago . \n",
      "\n",
      "\n",
      "complex sentence: \n",
      "108 St Georges Terrace has 50 floors and cost 120 million Australian dollars .\n",
      "simple_text_given: \n",
      "108 St Georges Terrance cost 120m Australian dollars . 108 St Georges Terrace has a floor count of 50 .\n",
      "simple_text_generated: \n",
      "108 St Georges Terrace has 50 floors . 108 St Georges Terrace cost million dollars . \n",
      "\n",
      "\n",
      "complex sentence: \n",
      "Addis Ababa City Hall is in Ethiopia , where the currency is the Ethiopian birr .\n",
      "simple_text_given: \n",
      "Addis Ababa City Hall is located in the country of Ethiopia . Ethiopia 's currency is the Ethiopian Birr .\n",
      "simple_text_generated: \n",
      "Addis Ababa City Hall is in Ethiopia . The currency is the birr . \n",
      "\n",
      "\n",
      "complex sentence: \n",
      "The California State Senate is part of the California State Legislature , and leads Anaheim , California .\n",
      "simple_text_given: \n",
      "The California State Senate leads Anaheim , California . The California State Senate is part of the California State Legislature .\n",
      "simple_text_generated: \n",
      "The California State Senate is part of the California State Legislature . The California State Senate leads Anaheim . \n"
     ]
    }
   ],
   "source": [
    "i = 0\n",
    "for compl, sim in test.iteritems():\n",
    "    i += 1\n",
    "    if i > 20:\n",
    "        break\n",
    "    doc = nlp(compl.decode('utf-8'), disable=['ner', 'textcat'])\n",
    "    simple_text = subjVerbObjToSentence(doc)\n",
    "#     simple_text, rejected = removeUnlikeSentences(simple_text, valid_templates)\n",
    "    print '\\n\\ncomplex sentence: '\n",
    "    print doc.text\n",
    "    print 'simple_text_given: '\n",
    "    print sim\n",
    "    print 'simple_text_generated: '\n",
    "    print simple_text\n",
    "#     print 'rejected sentences: '\n",
    "#     print rejected"
   ]
  },
  {
   "cell_type": "markdown",
   "metadata": {},
   "source": [
    "# Get baseline results for all items in test set"
   ]
  },
  {
   "cell_type": "code",
   "execution_count": 155,
   "metadata": {},
   "outputs": [],
   "source": [
    "## main2 ##\n",
    "baseline_result = {}\n",
    "for compl, sim in test.iteritems():\n",
    "    doc = nlp(compl.decode('utf-8'), disable=['ner', 'textcat'])\n",
    "    simple_text = subjVerbObjToSentence(doc)\n",
    "#     simple_text, rejected = removeUnlikeSentences(simple_text, valid_templates)\n",
    "    baseline_result[compl] = simple_text"
   ]
  },
  {
   "cell_type": "markdown",
   "metadata": {},
   "source": [
    "# Calculate simplicity metrics"
   ]
  },
  {
   "cell_type": "code",
   "execution_count": 156,
   "metadata": {
    "scrolled": true
   },
   "outputs": [
    {
     "name": "stdout",
     "output_type": "stream",
     "text": [
      "Error(ASyPW): Number of words are zero, cannot divide\n",
      "baseline evaluation error\n",
      "Error(ASyPW): Number of words are zero, cannot divide\n",
      "baseline evaluation error\n",
      "Error(ASyPW): Number of words are zero, cannot divide\n",
      "baseline evaluation error\n",
      "Error(ASyPW): Number of words are zero, cannot divide\n",
      "baseline evaluation error\n",
      "Error(ASyPW): Number of words are zero, cannot divide\n",
      "baseline evaluation error\n",
      "Error(ASyPW): Number of words are zero, cannot divide\n",
      "baseline evaluation error\n",
      "baseline evaluation error\n",
      "baseline evaluation error\n",
      "Error(ASyPW): Number of words are zero, cannot divide\n",
      "baseline evaluation error\n",
      "baseline evaluation error\n",
      "Error(ASyPW): Number of words are zero, cannot divide\n",
      "baseline evaluation error\n",
      "Error(ASyPW): Number of words are zero, cannot divide\n",
      "baseline evaluation error\n",
      "Error(ASyPW): Number of words are zero, cannot divide\n",
      "baseline evaluation error\n",
      "baseline evaluation error\n"
     ]
    }
   ],
   "source": [
    "## main 3 ##\n",
    "simplicity_metrics = {}\n",
    "\n",
    "simplicity_metrics[\"lexicon_count\"] = {}\n",
    "simplicity_metrics[\"lexicon_count\"][\"compl\"] = []\n",
    "simplicity_metrics[\"lexicon_count\"][\"simple_gold\"] = []\n",
    "simplicity_metrics[\"lexicon_count\"][\"baseline\"] = []\n",
    "\n",
    "simplicity_metrics[\"flesch_reading_ease\"] = {}\n",
    "simplicity_metrics[\"flesch_reading_ease\"][\"compl\"] = []\n",
    "simplicity_metrics[\"flesch_reading_ease\"][\"simple_gold\"] = []\n",
    "simplicity_metrics[\"flesch_reading_ease\"][\"baseline\"] = []\n",
    "\n",
    "simplicity_metrics[\"flesch_kincaid\"] = {}\n",
    "simplicity_metrics[\"flesch_kincaid\"][\"compl\"] = []\n",
    "simplicity_metrics[\"flesch_kincaid\"][\"simple_gold\"] = []\n",
    "simplicity_metrics[\"flesch_kincaid\"][\"baseline\"] = []\n",
    "\n",
    "simplicity_metrics[\"automated_readability\"] = {}\n",
    "simplicity_metrics[\"automated_readability\"][\"compl\"] = []\n",
    "simplicity_metrics[\"automated_readability\"][\"simple_gold\"] = []\n",
    "simplicity_metrics[\"automated_readability\"][\"baseline\"] = []\n",
    "\n",
    "simplicity_metrics[\"difficult_words\"] = {}\n",
    "simplicity_metrics[\"difficult_words\"][\"compl\"] = []\n",
    "simplicity_metrics[\"difficult_words\"][\"simple_gold\"] = []\n",
    "simplicity_metrics[\"difficult_words\"][\"baseline\"] = []\n",
    "\n",
    "simplicity_metrics[\"linsear_write\"] = {}\n",
    "simplicity_metrics[\"linsear_write\"][\"compl\"] = []\n",
    "simplicity_metrics[\"linsear_write\"][\"simple_gold\"] = []\n",
    "simplicity_metrics[\"linsear_write\"][\"baseline\"] = []\n",
    "\n",
    "for compl, sim in test.iteritems():\n",
    "    try:\n",
    "        words_count = textstat.lexicon_count(compl)\n",
    "        simplicity_metrics[\"lexicon_count\"][\"compl\"].append(words_count)\n",
    "        simplicity_metrics[\"flesch_reading_ease\"][\"compl\"].append(textstat.flesch_reading_ease(compl))\n",
    "        simplicity_metrics[\"flesch_kincaid\"][\"compl\"].append(textstat.flesch_kincaid_grade(compl))\n",
    "        simplicity_metrics[\"automated_readability\"][\"compl\"].append(textstat.automated_readability_index(compl))\n",
    "        simplicity_metrics[\"difficult_words\"][\"compl\"].append(textstat.difficult_words(compl) / float(words_count))\n",
    "        simplicity_metrics[\"linsear_write\"][\"compl\"].append(textstat.linsear_write_formula(compl))\n",
    "    except:\n",
    "        print 'complex evaluation error'\n",
    "        continue\n",
    "    \n",
    "    try:\n",
    "        words_count = textstat.lexicon_count(sim)\n",
    "        simplicity_metrics[\"lexicon_count\"][\"simple_gold\"].append(words_count)\n",
    "        simplicity_metrics[\"flesch_reading_ease\"][\"simple_gold\"].append(textstat.flesch_reading_ease(sim))\n",
    "        simplicity_metrics[\"flesch_kincaid\"][\"simple_gold\"].append(textstat.flesch_kincaid_grade(sim))\n",
    "        simplicity_metrics[\"automated_readability\"][\"simple_gold\"].append(textstat.automated_readability_index(sim))\n",
    "        simplicity_metrics[\"difficult_words\"][\"simple_gold\"].append(textstat.difficult_words(sim) / float(words_count))\n",
    "        simplicity_metrics[\"linsear_write\"][\"simple_gold\"].append(textstat.linsear_write_formula(sim))\n",
    "    except:\n",
    "        print 'simple_gold evaluation error'\n",
    "        continue\n",
    "        \n",
    "    try:\n",
    "        words_count = textstat.lexicon_count(baseline_result[compl])\n",
    "        simplicity_metrics[\"lexicon_count\"][\"baseline\"].append(words_count)\n",
    "        simplicity_metrics[\"flesch_reading_ease\"][\"baseline\"].append(textstat.flesch_reading_ease(baseline_result[compl]))\n",
    "        simplicity_metrics[\"flesch_kincaid\"][\"baseline\"].append(textstat.flesch_kincaid_grade(baseline_result[compl]))\n",
    "        simplicity_metrics[\"automated_readability\"][\"baseline\"].append(textstat.automated_readability_index(baseline_result[compl]))\n",
    "        simplicity_metrics[\"difficult_words\"][\"baseline\"].append(textstat.difficult_words(baseline_result[compl]) / float(words_count))\n",
    "        simplicity_metrics[\"linsear_write\"][\"baseline\"].append(textstat.linsear_write_formula(baseline_result[compl]))\n",
    "    except:\n",
    "        print 'baseline evaluation error'\n",
    "        continue\n",
    "\n"
   ]
  },
  {
   "cell_type": "raw",
   "metadata": {},
   "source": [
    "We can see that for some sentences (~15 / 1300) baseline cannot build simplified sentence. This fact is to be fixed in final solution. "
   ]
  },
  {
   "cell_type": "markdown",
   "metadata": {},
   "source": [
    "# Display simplicity metrics results"
   ]
  },
  {
   "cell_type": "code",
   "execution_count": 157,
   "metadata": {},
   "outputs": [
    {
     "data": {
      "image/png": "[encoded data removed]",
      "text/plain": [
       "<Figure size 432x288 with 1 Axes>"
      ]
     },
     "metadata": {},
     "output_type": "display_data"
    },
    {
     "data": {
      "image/png": "[encoded data removed]",
      "text/plain": [
       "<Figure size 432x288 with 1 Axes>"
      ]
     },
     "metadata": {},
     "output_type": "display_data"
    },
    {
     "data": {
      "image/png": "[encoded data removed]",
      "text/plain": [
       "<Figure size 432x288 with 1 Axes>"
      ]
     },
     "metadata": {},
     "output_type": "display_data"
    },
    {
     "data": {
      "image/png": "[encoded data removed]",
      "text/plain": [
       "<Figure size 432x288 with 1 Axes>"
      ]
     },
     "metadata": {},
     "output_type": "display_data"
    },
    {
     "data": {
      "image/png": "[encoded data removed]",
      "text/plain": [
       "<Figure size 432x288 with 1 Axes>"
      ]
     },
     "metadata": {},
     "output_type": "display_data"
    },
    {
     "data": {
      "image/png": "[encoded data removed]",
      "text/plain": [
       "<Figure size 432x288 with 1 Axes>"
      ]
     },
     "metadata": {},
     "output_type": "display_data"
    }
   ],
   "source": [
    "## main 4 ##\n",
    "\n",
    "metrics_trends = {}\n",
    "metrics_trends[\"lexicon_count\"] = \"Number of words. Should be more than original text value, but not much.\"\n",
    "metrics_trends[\"flesch_reading_ease\"] = \"Reading Ease Score. 0 - difficult, 100 - easy.\"\n",
    "metrics_trends[\"flesch_kincaid\"] = \"Reader Level Required. Less the better.\"\n",
    "metrics_trends[\"automated_readability\"] = \"Reader Level Required. Less the better.\"\n",
    "metrics_trends[\"difficult_words\"] = \"Fraction of difficult words from in-built vocabulary. Less the better.\"\n",
    "metrics_trends[\"linsear_write\"] = \"Reader Level Required. Less the better.\"\n",
    "\n",
    "for name, results in simplicity_metrics.iteritems():\n",
    "    fig = plt.figure()\n",
    "    titles = [\"complex\", \"simple_gold\", \"simple_baseline\"]\n",
    "    data = [results[\"compl\"], results[\"simple_gold\"], results[\"baseline\"]]\n",
    "    plt.boxplot(data, positions = [1,2,3], widths = 0.7)\n",
    "    plt.xticks([1,2,3], titles)\n",
    "    fig.suptitle(name + ' -- ' + metrics_trends[name])\n"
   ]
  },
  {
   "cell_type": "raw",
   "metadata": {},
   "source": [
    "What we can say about baseline simplicity:\n",
    " - Grade level of the text reader is fine - close to simple texts given, less than level requred for complex texts.\n",
    " - Number of words in sentence is too small. It means a lot of information is missed - this aspect is to be improved.\n",
    " - Fraction of difficult words is the same as in complex texts. Baseline does not simplify words. This simplification is to be added."
   ]
  },
  {
   "cell_type": "markdown",
   "metadata": {},
   "source": [
    "# Calculate similarity metrics"
   ]
  },
  {
   "cell_type": "code",
   "execution_count": 158,
   "metadata": {},
   "outputs": [],
   "source": [
    "# save results to text files readable for metrics lib\n",
    "with open(\"../dataset/test_simple.txt\", \"w\") as h:\n",
    "    for compl, sim in test.iteritems():\n",
    "        if (len(sim) > 10) and (len(baseline_result[compl]) > 10):\n",
    "            sim = sim.replace(\"\\n\", \"\")\n",
    "            sim += \"\\n\"\n",
    "            h.write(sim.encode('utf-8'))\n",
    "          \n",
    "with open(\"../dataset/test_baseline.txt\", \"w\") as r:\n",
    "    for compl, sim in test.iteritems():\n",
    "        if (len(sim) > 10) and (len(baseline_result[compl]) > 10):\n",
    "            line = baseline_result[compl]\n",
    "            line = line.replace(\"\\n\", \"\")\n",
    "            line += \"\\n\"\n",
    "            r.write(line.encode('utf-8'))"
   ]
  },
  {
   "cell_type": "code",
   "execution_count": 159,
   "metadata": {},
   "outputs": [
    {
     "name": "stdout",
     "output_type": "stream",
     "text": [
      "1340\n",
      "1340\n"
     ]
    }
   ],
   "source": [
    "# check number of lines are equal\n",
    "with open(\"../dataset/test_simple.txt\", \"r\") as h:\n",
    "    l = h.readlines()\n",
    "    print len(l)\n",
    "with open(\"../dataset/test_baseline.txt\", \"r\") as r:\n",
    "    l = r.readlines()\n",
    "    print len(l)"
   ]
  },
  {
   "cell_type": "code",
   "execution_count": 160,
   "metadata": {},
   "outputs": [
    {
     "name": "stdout",
     "output_type": "stream",
     "text": [
      "Bleu_1: 0.405793\n",
      "Bleu_2: 0.314038\n",
      "Bleu_3: 0.252190\n",
      "Bleu_4: 0.205916\n",
      "METEOR: 0.245252\n",
      "ROUGE_L: 0.428148\n",
      "CIDEr: 1.254691\n",
      "SkipThoughtsCosineSimilairty: 0.819136\n",
      "EmbeddingAverageCosineSimilairty: 0.864031\n",
      "VectorExtremaCosineSimilarity: 0.675512\n",
      "GreedyMatchingScore: 0.889118\n"
     ]
    }
   ],
   "source": [
    "# calculate metrics for correspondence of generated sentence to gold-simple sentences\n",
    "metrics_dict = compute_metrics(hypothesis=\"../dataset/test_baseline.txt\",\n",
    "                               references=[\"../dataset/test_simple.txt\"])"
   ]
  },
  {
   "cell_type": "raw",
   "metadata": {},
   "source": [
    "This result is difficult to interpret, it just can be compared with next model results."
   ]
  },
  {
   "cell_type": "markdown",
   "metadata": {},
   "source": [
    "# Calculate adequacy to the language model"
   ]
  },
  {
   "cell_type": "code",
   "execution_count": 151,
   "metadata": {},
   "outputs": [
    {
     "name": "stdout",
     "output_type": "stream",
     "text": [
      "3-gram model\n"
     ]
    }
   ],
   "source": [
    "# load the English language model\n",
    "LM = os.path.join(os.path.dirname(\"__file__\"), '..', 'lm', 'lm_csr_64k_nvp_3gram.arpa')\n",
    "model = kenlm.LanguageModel(LM)\n",
    "print('{0}-gram model'.format(model.order))"
   ]
  },
  {
   "cell_type": "code",
   "execution_count": 163,
   "metadata": {},
   "outputs": [],
   "source": [
    "# collect matching scores of all texts\n",
    "gold_scores = []\n",
    "baseline_scores = []\n",
    "\n",
    "for compl, sim in test.iteritems():\n",
    "    doc = nlp(sim.decode('utf-8'), disable=['ner', 'textcat', 'parser'])\n",
    "    gold_scores.append((model.score(sim))/len(doc))\n",
    "\n",
    "    simple_text = baseline_result[compl]\n",
    "    doc_s = nlp(simple_text.decode('utf-8'), disable=['ner', 'textcat', 'parser'])\n",
    "    if len(doc_s) > 0:\n",
    "        baseline_scores.append((model.score(simple_text))/len(doc_s))\n"
   ]
  },
  {
   "cell_type": "code",
   "execution_count": 164,
   "metadata": {},
   "outputs": [
    {
     "data": {
      "text/plain": [
       "([<matplotlib.axis.XTick at 0x7f0a62297fd0>,\n",
       "  <matplotlib.axis.XTick at 0x7f0a4b845990>],\n",
       " <a list of 2 Text xticklabel objects>)"
      ]
     },
     "execution_count": 164,
     "metadata": {},
     "output_type": "execute_result"
    },
    {
     "data": {
      "image/png": "[encoded data removed]",
      "text/plain": [
       "<Figure size 432x288 with 1 Axes>"
      ]
     },
     "metadata": {},
     "output_type": "display_data"
    }
   ],
   "source": [
    "# display results\n",
    "fig = plt.figure()\n",
    "titles = [\"simple_gold\", \"simple_baseline\"]\n",
    "data = [gold_scores, baseline_scores]\n",
    "plt.boxplot(data, positions = [1,2], widths = 0.7)\n",
    "plt.xticks([1,2], titles)"
   ]
  },
  {
   "cell_type": "raw",
   "metadata": {},
   "source": [
    "The last plot shows that baseline-generated texts are not so 'fine english sentences' as given simple texts are (y-axis contains log(10) of probability of a word sequence). This aspect is to be improved."
   ]
  }
 ],
 "metadata": {
  "kernelspec": {
   "display_name": "Python 2",
   "language": "python",
   "name": "python2"
  },
  "language_info": {
   "codemirror_mode": {
    "name": "ipython",
    "version": 2
   },
   "file_extension": ".py",
   "mimetype": "text/x-python",
   "name": "python",
   "nbconvert_exporter": "python",
   "pygments_lexer": "ipython2",
   "version": "2.7.12"
  }
 },
 "nbformat": 4,
 "nbformat_minor": 2
}
