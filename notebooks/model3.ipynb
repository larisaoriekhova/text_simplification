{
 "cells": [
  {
   "cell_type": "code",
   "execution_count": 1,
   "metadata": {
    "collapsed": true
   },
   "outputs": [],
   "source": [
    "import random\n",
    "import json\n",
    "import re\n",
    "import os\n",
    "import bz2\n",
    "import spacy\n",
    "\n"
   ]
  },
  {
   "cell_type": "code",
   "execution_count": 33,
   "metadata": {
    "collapsed": true
   },
   "outputs": [],
   "source": [
    "nlp = spacy.load('en_core_web_lg', disable=['ner', 'textcat', 'depend'])"
   ]
  },
  {
   "cell_type": "markdown",
   "metadata": {},
   "source": [
    "# Functions to read and prepare data"
   ]
  },
  {
   "cell_type": "code",
   "execution_count": 3,
   "metadata": {
    "collapsed": true
   },
   "outputs": [],
   "source": [
    "# remove some frequent garbage from sentences \n",
    "def preprocessSentence(text):\n",
    "    text = re.sub('-LRB-(.*?)-RRB-', '', text)\n",
    "    text = re.sub('-RRB-', '', text)\n",
    "    text = re.sub('^\\\"', '', text)\n",
    "    text = re.sub('\\\"$', '', text)\n",
    "    text = re.sub('\\\\n', '', text)\n",
    "    text = re.sub('\\\\r', '', text)\n",
    "    text = re.sub('\\\\t', '', text)\n",
    "    text = re.sub('\\`', '', text)\n",
    "    text = re.sub('\\'\\'', '', text)\n",
    "    return text"
   ]
  },
  {
   "cell_type": "code",
   "execution_count": 4,
   "metadata": {
    "collapsed": true
   },
   "outputs": [],
   "source": [
    "# read Newsela dataset\n",
    "def readNewselaData(compl_to_sim):\n",
    "    with bz2.BZ2File('../dataset/clear_newsela.txt.bz2', \"r\") as content:         \n",
    "        for line in content:\n",
    "            texts = line.split('\\t')\n",
    "\n",
    "            if len(texts) != 3:\n",
    "#                 print 'wrong line: ', len(texts), line\n",
    "                continue\n",
    "            if (len(texts[0]) < 10) or (len(texts[1]) < 10):\n",
    "#                 print 'empty line: ', line\n",
    "                continue\n",
    "                \n",
    "            compl_to_sim[preprocessSentence(texts[0])] = preprocessSentence(texts[1])\n",
    "    return compl_to_sim"
   ]
  },
  {
   "cell_type": "code",
   "execution_count": 5,
   "metadata": {
    "collapsed": true
   },
   "outputs": [],
   "source": [
    "def readWikiData(compl_to_sim):\n",
    "    complex_sentences = {}\n",
    "    with bz2.BZ2File('../dataset/wiki.bz2', \"r\") as content:  \n",
    "        i = 1\n",
    "        for line in content:\n",
    "            complex_sentences[i] = preprocessSentence(line)\n",
    "            i += 1\n",
    "    i = 1\n",
    "    with bz2.BZ2File('../dataset/simple_wiki.bz2', \"r\") as simple:\n",
    "        for line in simple:\n",
    "            prep_line = preprocessSentence(line)\n",
    "\n",
    "            try:\n",
    "                if (complex_sentences[i] != prep_line) or (len(complex_sentences[i]) < 100):\n",
    "                    compl_to_sim[complex_sentences[i]] = prep_line\n",
    "            except:\n",
    "                continue\n",
    "            i += 1\n",
    "    return compl_to_sim"
   ]
  },
  {
   "cell_type": "code",
   "execution_count": 6,
   "metadata": {
    "collapsed": true
   },
   "outputs": [],
   "source": [
    "def readPWKPData(compl_to_sim):\n",
    "    complex_sentences = {}\n",
    "    with bz2.BZ2File('../dataset/PWKP_108016.bz2', \"r\") as content:  \n",
    "        simple = False\n",
    "        simple_sent = ''\n",
    "        compls_sent = ''\n",
    "        for line in content:\n",
    "            if len(line) < 5:\n",
    "                simple = False\n",
    "                if (len(simple_sent) > 10) and (len(compls_sent) > 10):\n",
    "                    compl_to_sim[preprocessSentence(compls_sent)] = preprocessSentence(simple_sent)\n",
    "                simple_sent = ''\n",
    "                compls_sent = ''\n",
    "            elif simple == False:\n",
    "                compls_sent += line + ' '\n",
    "                simple = True\n",
    "            else:\n",
    "                simple_sent += line + ' '\n",
    "    return compl_to_sim"
   ]
  },
  {
   "cell_type": "code",
   "execution_count": 17,
   "metadata": {
    "collapsed": true
   },
   "outputs": [],
   "source": [
    "def clearSentence(text, vocab, voc_freq, re_print):\n",
    "    \n",
    "    text = text.decode('UTF-8')\n",
    "    doc = nlp(text)\n",
    "    text_tokens = []\n",
    "    prev_pos = ''\n",
    "    propn_text = ''\n",
    "    for x in doc:\n",
    "        if (x.pos_ == 'PROPN'):\n",
    "            propn_text += x.text\n",
    "        elif len(propn_text) > 0:\n",
    "            text_tokens.append(propn_text)\n",
    "            propn_text = ''\n",
    "#         elif (x.lemma_ == '-PRON-'):\n",
    "#             text_tokens.append(x.text.lower())\n",
    "        if x.pos_ not in ['SPACE', 'PUNCT', 'SYM', 'X', 'NUM', 'PROPN']:\n",
    "            text_tokens.append(x.text.lower())\n",
    "            \n",
    "        \n",
    "    text_tokens = [re_print.sub('', w) for w in text_tokens]\n",
    "    tokens_count = len(text_tokens)\n",
    "    if (tokens_count > 12):\n",
    "        return ' ', tokens_count, vocab, voc_freq\n",
    "    \n",
    "    for word in text_tokens:\n",
    "        if word in vocab:\n",
    "            continue\n",
    "        elif not voc_freq.has_key(word):\n",
    "            voc_freq[word] = 1\n",
    "        elif voc_freq[word] == 3:\n",
    "            vocab.append(word)\n",
    "        else:\n",
    "            voc_freq[word] += 1     \n",
    "    \n",
    "    return ' '.join(text_tokens), tokens_count, vocab, voc_freq\n",
    "    "
   ]
  },
  {
   "cell_type": "code",
   "execution_count": 18,
   "metadata": {
    "collapsed": true
   },
   "outputs": [],
   "source": [
    "def clearLong(dataset):\n",
    "    \n",
    "    new_dataset = {}\n",
    "    vocab = []\n",
    "    voc_freq = {}\n",
    "    i = 0\n",
    "    for key, val in dataset.iteritems():\n",
    "        if i % 1000 == 0:\n",
    "            print(i)\n",
    "        i += 1\n",
    "        key = key.replace('  ', ' ')\n",
    "        key_tok = key.split(' ')\n",
    "        val = val.replace('  ', ' ')\n",
    "        val_tok = val.split(' ')        \n",
    "\n",
    "        max_encoder_seq_length = 12\n",
    "        max_decoder_seq_length = 12\n",
    "        \n",
    "        if (len(val_tok) > max_decoder_seq_length) or (len(key_tok) > max_encoder_seq_length):\n",
    "            continue\n",
    "    \n",
    "        for word in val_tok:\n",
    "            if word in vocab:\n",
    "                continue\n",
    "            elif not voc_freq.has_key(word):\n",
    "                voc_freq[word] = 1\n",
    "            elif voc_freq[word] == 3:\n",
    "                vocab.append(word)\n",
    "            else:\n",
    "                voc_freq[word] += 1     \n",
    "\n",
    "        for word in key_tok:\n",
    "            if word in vocab:\n",
    "                continue\n",
    "            elif not voc_freq.has_key(word):\n",
    "                voc_freq[word] = 1\n",
    "            elif voc_freq[word] == 3:\n",
    "                vocab.append(word)\n",
    "            else:\n",
    "                voc_freq[word] += 1\n",
    "                \n",
    "        new_dataset[' '.join(key_tok)] = ' '.join(val_tok)\n",
    "\n",
    "    vocab.append('start_')\n",
    "    vocab.append('_end')\n",
    "    vocab.append('UNkN')\n",
    "\n",
    "    return new_dataset, vocab, max_encoder_seq_length, max_decoder_seq_length\n",
    "\n",
    "    "
   ]
  },
  {
   "cell_type": "code",
   "execution_count": 19,
   "metadata": {
    "collapsed": true
   },
   "outputs": [],
   "source": [
    "# split data to train and test set\n",
    "def splitTrainTest(compl_to_sim):\n",
    "    train = {}\n",
    "    test = {}\n",
    "    vocab = []\n",
    "    max_com_length = 0\n",
    "    max_sim_length = 0\n",
    "    voc_freq = {}\n",
    "    re_print = re.compile('[^%s]' % re.escape(string.printable))\n",
    "\n",
    "    ii = 0\n",
    "    for compl, sim in compl_to_sim.iteritems():\n",
    "        if (ii % 1000 == 1):\n",
    "            print(ii)\n",
    "        ii += 1\n",
    "        try:\n",
    "            sim_u = sim.encode('utf-8')\n",
    "            compl_u = compl.encode('utf-8')\n",
    "        except:\n",
    "            continue\n",
    "#         com, s = replaceProperNouns(compl, sim)\n",
    "#         com, s = compl, sim\n",
    "        com, lc, vocab, voc_freq = clearSentence(compl, vocab, voc_freq, re_print)\n",
    "        if (lc > 12) or (lc < 3):\n",
    "            continue\n",
    "        s, ls, vocab, voc_freq = clearSentence(sim, vocab, voc_freq, re_print)\n",
    "        if (ls > 12) or (ls < 3): \n",
    "            continue\n",
    "        \n",
    "        if (max_com_length < lc):\n",
    "            max_com_length = lc\n",
    "        if (max_sim_length < ls):\n",
    "            max_sim_length = ls\n",
    "            \n",
    "        r = random.random()\n",
    "        if r < 0.8:\n",
    "            train[com] = s\n",
    "        else:\n",
    "            test[com] = s\n",
    "    return train, test, vocab, max_com_length, max_sim_length"
   ]
  },
  {
   "cell_type": "markdown",
   "metadata": {},
   "source": [
    "# Read and preprocess data"
   ]
  },
  {
   "cell_type": "code",
   "execution_count": 10,
   "metadata": {
    "collapsed": true
   },
   "outputs": [],
   "source": [
    "compl_to_sim = {}"
   ]
  },
  {
   "cell_type": "code",
   "execution_count": 11,
   "metadata": {
    "collapsed": true
   },
   "outputs": [],
   "source": [
    "compl_to_sim = readNewselaData(compl_to_sim)"
   ]
  },
  {
   "cell_type": "code",
   "execution_count": 12,
   "metadata": {
    "collapsed": true
   },
   "outputs": [],
   "source": [
    "compl_to_sim = readWikiData(compl_to_sim)"
   ]
  },
  {
   "cell_type": "code",
   "execution_count": 13,
   "metadata": {
    "collapsed": true
   },
   "outputs": [],
   "source": [
    "compl_to_sim = readPWKPData(compl_to_sim)"
   ]
  },
  {
   "cell_type": "code",
   "execution_count": 14,
   "metadata": {},
   "outputs": [
    {
     "data": {
      "text/plain": [
       "234022"
      ]
     },
     "execution_count": 14,
     "metadata": {},
     "output_type": "execute_result"
    }
   ],
   "source": [
    "len(compl_to_sim)"
   ]
  },
  {
   "cell_type": "code",
   "execution_count": 15,
   "metadata": {},
   "outputs": [
    {
     "data": {
      "text/plain": [
       "('This combination of propellants is sometimes still used in torpedoes. ',\n",
       " 'This combination of propellants is still used in torpedoes. ')"
      ]
     },
     "execution_count": 15,
     "metadata": {},
     "output_type": "execute_result"
    }
   ],
   "source": [
    "random.choice(list(compl_to_sim.items()))"
   ]
  },
  {
   "cell_type": "code",
   "execution_count": 16,
   "metadata": {
    "collapsed": true
   },
   "outputs": [],
   "source": [
    "import string"
   ]
  },
  {
   "cell_type": "code",
   "execution_count": 20,
   "metadata": {},
   "outputs": [
    {
     "name": "stdout",
     "output_type": "stream",
     "text": [
      "1\n",
      "1001\n",
      "2001\n",
      "3001\n",
      "4001\n",
      "5001\n",
      "6001\n",
      "7001\n",
      "8001\n",
      "9001\n",
      "10001\n",
      "11001\n",
      "12001\n",
      "13001\n",
      "14001\n",
      "15001\n",
      "16001\n",
      "17001\n",
      "18001\n",
      "19001\n",
      "20001\n",
      "21001\n",
      "22001\n",
      "23001\n",
      "24001\n",
      "25001\n",
      "26001\n",
      "27001\n",
      "28001\n",
      "29001\n",
      "30001\n",
      "31001\n",
      "32001\n",
      "33001\n",
      "34001\n",
      "35001\n",
      "36001\n",
      "37001\n",
      "38001\n",
      "39001\n",
      "40001\n",
      "41001\n",
      "42001\n",
      "43001\n",
      "44001\n",
      "45001\n",
      "46001\n",
      "47001\n",
      "48001\n",
      "49001\n",
      "50001\n",
      "51001\n",
      "52001\n",
      "53001\n",
      "54001\n",
      "55001\n",
      "56001\n",
      "57001\n",
      "58001\n",
      "59001\n",
      "60001\n",
      "61001\n",
      "62001\n",
      "63001\n",
      "64001\n",
      "65001\n",
      "66001\n",
      "67001\n",
      "68001\n",
      "69001\n",
      "70001\n",
      "71001\n",
      "72001\n",
      "73001\n",
      "74001\n",
      "75001\n",
      "76001\n",
      "77001\n",
      "78001\n",
      "79001\n",
      "80001\n",
      "81001\n",
      "82001\n",
      "83001\n",
      "84001\n",
      "85001\n",
      "86001\n",
      "87001\n",
      "88001\n",
      "89001\n",
      "90001\n",
      "91001\n",
      "92001\n",
      "93001\n",
      "94001\n",
      "95001\n",
      "96001\n",
      "97001\n",
      "98001\n",
      "99001\n",
      "100001\n",
      "101001\n",
      "102001\n",
      "103001\n",
      "104001\n",
      "105001\n",
      "106001\n",
      "107001\n",
      "108001\n",
      "109001\n",
      "110001\n",
      "111001\n",
      "112001\n",
      "113001\n",
      "114001\n",
      "115001\n",
      "116001\n",
      "117001\n",
      "118001\n",
      "119001\n",
      "120001\n",
      "121001\n",
      "122001\n",
      "123001\n",
      "124001\n",
      "125001\n",
      "126001\n",
      "127001\n",
      "128001\n",
      "129001\n",
      "130001\n",
      "131001\n",
      "132001\n",
      "133001\n",
      "134001\n",
      "135001\n",
      "136001\n",
      "137001\n",
      "138001\n",
      "139001\n",
      "140001\n",
      "141001\n",
      "142001\n",
      "143001\n",
      "144001\n",
      "145001\n",
      "146001\n",
      "147001\n",
      "148001\n",
      "149001\n",
      "150001\n",
      "151001\n",
      "152001\n",
      "153001\n",
      "154001\n",
      "155001\n",
      "156001\n",
      "157001\n",
      "158001\n",
      "159001\n",
      "160001\n",
      "161001\n",
      "162001\n",
      "163001\n",
      "164001\n",
      "165001\n",
      "166001\n",
      "167001\n",
      "168001\n",
      "169001\n",
      "170001\n",
      "171001\n",
      "172001\n",
      "173001\n",
      "174001\n",
      "175001\n",
      "176001\n",
      "177001\n",
      "178001\n",
      "179001\n",
      "180001\n",
      "181001\n",
      "182001\n",
      "183001\n",
      "184001\n",
      "185001\n",
      "186001\n",
      "187001\n",
      "188001\n",
      "189001\n",
      "190001\n",
      "191001\n",
      "192001\n",
      "193001\n",
      "194001\n",
      "195001\n",
      "196001\n",
      "197001\n",
      "198001\n",
      "199001\n",
      "200001\n",
      "201001\n",
      "202001\n",
      "203001\n",
      "204001\n",
      "205001\n",
      "206001\n",
      "207001\n",
      "208001\n",
      "209001\n",
      "210001\n",
      "211001\n",
      "212001\n",
      "213001\n",
      "214001\n",
      "215001\n",
      "216001\n",
      "217001\n",
      "218001\n",
      "219001\n",
      "220001\n",
      "221001\n",
      "222001\n",
      "223001\n",
      "224001\n",
      "225001\n",
      "226001\n",
      "227001\n",
      "228001\n",
      "229001\n",
      "230001\n",
      "231001\n",
      "232001\n",
      "233001\n",
      "234001\n"
     ]
    }
   ],
   "source": [
    "# train, test = splitTrainTest(compl_to_sim)\n",
    "# print len(train), len(test)\n",
    "\n",
    "train, test, tokens, max_encoder_seq_length, max_decoder_seq_length = splitTrainTest(compl_to_sim)\n",
    "num_tokens = len(tokens)\n"
   ]
  },
  {
   "cell_type": "code",
   "execution_count": 21,
   "metadata": {},
   "outputs": [
    {
     "data": {
      "text/plain": [
       "38623"
      ]
     },
     "execution_count": 21,
     "metadata": {},
     "output_type": "execute_result"
    }
   ],
   "source": [
    "len(train)"
   ]
  },
  {
   "cell_type": "code",
   "execution_count": 22,
   "metadata": {
    "collapsed": true
   },
   "outputs": [],
   "source": [
    "tokens.append('start_')\n",
    "tokens.append('_end')\n",
    "tokens.append('UNkN')\n",
    "num_tokens = len(tokens)"
   ]
  },
  {
   "cell_type": "code",
   "execution_count": 226,
   "metadata": {},
   "outputs": [
    {
     "name": "stdout",
     "output_type": "stream",
     "text": [
      "0\n",
      "1000\n",
      "2000\n",
      "3000\n",
      "4000\n",
      "5000\n",
      "6000\n",
      "7000\n",
      "8000\n",
      "9000\n",
      "10000\n",
      "11000\n",
      "12000\n",
      "13000\n",
      "14000\n",
      "15000\n",
      "16000\n",
      "17000\n",
      "18000\n",
      "19000\n",
      "20000\n",
      "21000\n",
      "22000\n",
      "23000\n",
      "24000\n",
      "25000\n",
      "26000\n",
      "27000\n",
      "28000\n",
      "29000\n",
      "30000\n",
      "31000\n",
      "32000\n",
      "33000\n",
      "34000\n",
      "35000\n",
      "36000\n",
      "37000\n",
      "38000\n",
      "39000\n",
      "40000\n",
      "41000\n"
     ]
    }
   ],
   "source": [
    "train, tokens, max_encoder_seq_length, max_decoder_seq_length = clearLong(train)\n",
    "num_tokens = len(tokens)"
   ]
  },
  {
   "cell_type": "code",
   "execution_count": 23,
   "metadata": {
    "collapsed": true
   },
   "outputs": [],
   "source": [
    "num_tokens = len(tokens)"
   ]
  },
  {
   "cell_type": "code",
   "execution_count": null,
   "metadata": {
    "collapsed": true
   },
   "outputs": [],
   "source": []
  },
  {
   "cell_type": "code",
   "execution_count": null,
   "metadata": {
    "collapsed": true
   },
   "outputs": [],
   "source": []
  },
  {
   "cell_type": "code",
   "execution_count": 2,
   "metadata": {
    "collapsed": true
   },
   "outputs": [],
   "source": [
    "train = {}\n",
    "with open(\"../dataset/train_12.txt\", \"r\") as f:\n",
    "    lines = f.readlines()\n",
    "    for l in lines:\n",
    "        parts = l.split('\\t')\n",
    "        if len(parts) != 2:\n",
    "            continue\n",
    "        train[parts[0]] = parts[1]"
   ]
  },
  {
   "cell_type": "code",
   "execution_count": null,
   "metadata": {
    "collapsed": true
   },
   "outputs": [],
   "source": []
  },
  {
   "cell_type": "code",
   "execution_count": 3,
   "metadata": {},
   "outputs": [
    {
     "data": {
      "text/plain": [
       "38546"
      ]
     },
     "execution_count": 3,
     "metadata": {},
     "output_type": "execute_result"
    }
   ],
   "source": [
    "len(train)"
   ]
  },
  {
   "cell_type": "code",
   "execution_count": 4,
   "metadata": {
    "collapsed": true
   },
   "outputs": [],
   "source": [
    "tokens = []\n",
    "with open(\"../dataset/vocab_12.txt\", \"r\") as f:\n",
    "    lines = f.readlines()\n",
    "    for l in lines:\n",
    "        if len(l) > 0:\n",
    "            tokens.append(l)\n",
    "num_tokens = len(tokens)"
   ]
  },
  {
   "cell_type": "code",
   "execution_count": 24,
   "metadata": {},
   "outputs": [
    {
     "name": "stdout",
     "output_type": "stream",
     "text": [
      "('Number of samples:', 38623)\n",
      "('Number of unique tokens:', 20672)\n",
      "('Max sequence length for inputs:', 12)\n",
      "('Max sequence length for outputs:', 12)\n"
     ]
    }
   ],
   "source": [
    "print('Number of samples:', len(train))\n",
    "print('Number of unique tokens:', num_tokens)\n",
    "print('Max sequence length for inputs:', max_encoder_seq_length)\n",
    "print('Max sequence length for outputs:', max_decoder_seq_length)"
   ]
  },
  {
   "cell_type": "code",
   "execution_count": 25,
   "metadata": {
    "collapsed": true
   },
   "outputs": [],
   "source": [
    "with open(\"../dataset/train_12_3.txt\", \"w\") as f:\n",
    "    for com, sim in train.iteritems():\n",
    "        f.write(com + '\\t' + sim + '\\n')\n",
    "\n",
    "with open(\"../dataset/test_12_3.txt\", \"w\") as f:\n",
    "    for com, sim in test.iteritems():\n",
    "        f.write(com + '\\t' + sim + '\\n')\n",
    "        \n",
    "with open(\"../dataset/vocab_12_3.txt\", \"w\") as f:\n",
    "    for tok in tokens:\n",
    "        f.write(tok + '\\n')\n"
   ]
  },
  {
   "cell_type": "code",
   "execution_count": 26,
   "metadata": {
    "collapsed": true
   },
   "outputs": [],
   "source": [
    "input_texts = []\n",
    "target_texts = []\n",
    "max_encoder_seq_length = 0\n",
    "max_decoder_seq_length = 0\n",
    "for com, sim in train.iteritems():\n",
    "    input_texts.append(com)\n",
    "    sim = 'start_ ' + sim + ' _end'\n",
    "    target_texts.append(sim)\n",
    "    if (len(com.split(' ')) > max_encoder_seq_length):\n",
    "        max_encoder_seq_length = len(com.split(' '))\n",
    "    if (len(sim.split(' ')) > max_decoder_seq_length):\n",
    "        max_decoder_seq_length = len(sim.split(' '))\n"
   ]
  },
  {
   "cell_type": "code",
   "execution_count": 27,
   "metadata": {},
   "outputs": [
    {
     "data": {
      "text/plain": [
       "(u'in the church was destroyed in a fire',\n",
       " u'start_ in the church was destroyed in a fire _end')"
      ]
     },
     "execution_count": 27,
     "metadata": {},
     "output_type": "execute_result"
    }
   ],
   "source": [
    "random.choice(zip(input_texts, target_texts))    "
   ]
  },
  {
   "cell_type": "raw",
   "metadata": {},
   "source": [
    "'''Sequence to sequence example in Keras (character-level).\n",
    "This script demonstrates how to implement a basic character-level\n",
    "sequence-to-sequence model. We apply it to translating\n",
    "short English sentences into short French sentences,\n",
    "character-by-character. Note that it is fairly unusual to\n",
    "do character-level machine translation, as word-level\n",
    "models are more common in this domain.\n",
    "# Summary of the algorithm\n",
    "- We start with input sequences from a domain (e.g. English sentences)\n",
    "    and correspding target sequences from another domain\n",
    "    (e.g. French sentences).\n",
    "- An encoder LSTM turns input sequences to 2 state vectors\n",
    "    (we keep the last LSTM state and discard the outputs).\n",
    "- A decoder LSTM is trained to turn the target sequences into\n",
    "    the same sequence but offset by one timestep in the future,\n",
    "    a training process called \"teacher forcing\" in this context.\n",
    "    Is uses as initial state the state vectors from the encoder.\n",
    "    Effectively, the decoder learns to generate `targets[t+1...]`\n",
    "    given `targets[...t]`, conditioned on the input sequence.\n",
    "- In inference mode, when we want to decode unknown input sequences, we:\n",
    "    - Encode the input sequence into state vectors\n",
    "    - Start with a target sequence of size 1\n",
    "        (just the start-of-sequence character)\n",
    "    - Feed the state vectors and 1-char target sequence\n",
    "        to the decoder to produce predictions for the next character\n",
    "    - Sample the next character using these predictions\n",
    "        (we simply use argmax).\n",
    "    - Append the sampled character to the target sequence\n",
    "    - Repeat until we generate the end-of-sequence character or we\n",
    "        hit the character limit.\n",
    "'''"
   ]
  },
  {
   "cell_type": "code",
   "execution_count": 28,
   "metadata": {},
   "outputs": [
    {
     "name": "stderr",
     "output_type": "stream",
     "text": [
      "Using TensorFlow backend.\n"
     ]
    }
   ],
   "source": [
    "from __future__ import print_function\n",
    "\n",
    "from keras.models import Model\n",
    "from keras.layers import Input, LSTM, Dense\n",
    "import numpy as np"
   ]
  },
  {
   "cell_type": "code",
   "execution_count": 29,
   "metadata": {
    "collapsed": true
   },
   "outputs": [],
   "source": [
    "batch_size = 80  # Batch size for training.\n",
    "epochs = 5  # Number of epochs to train for. ___100___\n",
    "latent_dim = 256  # Latent dimensionality of the encoding space.\n",
    "num_samples = 10000  # Number of samples to train on."
   ]
  },
  {
   "cell_type": "code",
   "execution_count": 30,
   "metadata": {
    "collapsed": true
   },
   "outputs": [],
   "source": [
    "token_index = dict(\n",
    "    [(char, i) for i, char in enumerate(tokens)])"
   ]
  },
  {
   "cell_type": "code",
   "execution_count": 31,
   "metadata": {},
   "outputs": [
    {
     "data": {
      "text/plain": [
       "13573049152"
      ]
     },
     "execution_count": 31,
     "metadata": {},
     "output_type": "execute_result"
    }
   ],
   "source": [
    "len(train)*17*num_tokens"
   ]
  },
  {
   "cell_type": "code",
   "execution_count": 32,
   "metadata": {},
   "outputs": [
    {
     "ename": "MemoryError",
     "evalue": "",
     "output_type": "error",
     "traceback": [
      "\u001b[0;31m---------------------------------------------------------------------------\u001b[0m",
      "\u001b[0;31mMemoryError\u001b[0m                               Traceback (most recent call last)",
      "\u001b[0;32m<ipython-input-32-b4abceaf6108>\u001b[0m in \u001b[0;36m<module>\u001b[0;34m()\u001b[0m\n\u001b[1;32m      1\u001b[0m encoder_input_data = np.zeros(\n\u001b[1;32m      2\u001b[0m     \u001b[0;34m(\u001b[0m\u001b[0mlen\u001b[0m\u001b[0;34m(\u001b[0m\u001b[0minput_texts\u001b[0m\u001b[0;34m)\u001b[0m\u001b[0;34m,\u001b[0m \u001b[0mmax_encoder_seq_length\u001b[0m\u001b[0;34m,\u001b[0m \u001b[0mnum_tokens\u001b[0m\u001b[0;34m)\u001b[0m\u001b[0;34m,\u001b[0m\u001b[0;34m\u001b[0m\u001b[0m\n\u001b[0;32m----> 3\u001b[0;31m     dtype='float32')\n\u001b[0m\u001b[1;32m      4\u001b[0m decoder_input_data = np.zeros(\n\u001b[1;32m      5\u001b[0m     \u001b[0;34m(\u001b[0m\u001b[0mlen\u001b[0m\u001b[0;34m(\u001b[0m\u001b[0minput_texts\u001b[0m\u001b[0;34m)\u001b[0m\u001b[0;34m,\u001b[0m \u001b[0mmax_decoder_seq_length\u001b[0m\u001b[0;34m,\u001b[0m \u001b[0mnum_tokens\u001b[0m\u001b[0;34m)\u001b[0m\u001b[0;34m,\u001b[0m\u001b[0;34m\u001b[0m\u001b[0m\n",
      "\u001b[0;31mMemoryError\u001b[0m: "
     ]
    }
   ],
   "source": [
    "encoder_input_data = np.zeros(\n",
    "    (len(input_texts), max_encoder_seq_length, num_tokens),\n",
    "    dtype='float32')\n",
    "decoder_input_data = np.zeros(\n",
    "    (len(input_texts), max_decoder_seq_length, num_tokens),\n",
    "    dtype='float32')\n",
    "decoder_target_data = np.zeros(\n",
    "    (len(input_texts), max_decoder_seq_length, num_tokens),\n",
    "    dtype='float32')\n",
    "\n",
    "for i, (input_text, target_text) in enumerate(zip(input_texts, target_texts)):\n",
    "    for t, char in enumerate(input_text.split()):\n",
    "        try:\n",
    "            encoder_input_data[i, t, token_index[char]] = 1.\n",
    "        except:\n",
    "            encoder_input_data[i, t, token_index['UNkN']] = 1.\n",
    "                \n",
    "    for t, char in enumerate(target_text.split()):\n",
    "        # decoder_target_data is ahead of decoder_input_data by one timestep\n",
    "        try:\n",
    "            decoder_input_data[i, t, token_index[char]] = 1.\n",
    "        except:\n",
    "            decoder_input_data[i, t, token_index['UNkN']] = 1.\n",
    "        if t > 0:\n",
    "            # decoder_target_data will be ahead by one timestep\n",
    "            # and will not include the start character.\n",
    "            try:\n",
    "                decoder_target_data[i, t - 1, token_index[char]] = 1.\n",
    "            except:\n",
    "                decoder_target_data[i, t - 1, token_index['UNkN']] = 1"
   ]
  },
  {
   "cell_type": "code",
   "execution_count": 24,
   "metadata": {},
   "outputs": [
    {
     "data": {
      "text/plain": [
       "((38546, 12, 9253), (38546, 14, 9253), (38546, 14, 9253))"
      ]
     },
     "execution_count": 24,
     "metadata": {},
     "output_type": "execute_result"
    }
   ],
   "source": [
    "encoder_input_data.shape, decoder_input_data.shape, decoder_target_data.shape"
   ]
  },
  {
   "cell_type": "code",
   "execution_count": null,
   "metadata": {
    "collapsed": true
   },
   "outputs": [],
   "source": []
  },
  {
   "cell_type": "code",
   "execution_count": 25,
   "metadata": {
    "collapsed": true
   },
   "outputs": [],
   "source": [
    "# Define an input sequence and process it.\n",
    "encoder_inputs = Input(shape=(None, num_tokens))\n",
    "encoder = LSTM(latent_dim, return_state=True)\n",
    "encoder_outputs, state_h, state_c = encoder(encoder_inputs)\n",
    "# We discard `encoder_outputs` and only keep the states.\n",
    "encoder_states = [state_h, state_c]\n",
    "\n",
    "# Set up the decoder, using `encoder_states` as initial state.\n",
    "decoder_inputs = Input(shape=(None, num_tokens))\n",
    "# We set up our decoder to return full output sequences,\n",
    "# and to return internal states as well. We don't use the\n",
    "# return states in the training model, but we will use them in inference.\n",
    "decoder_lstm = LSTM(latent_dim, return_sequences=True, return_state=True)\n",
    "decoder_outputs, _, _ = decoder_lstm(decoder_inputs,\n",
    "                                     initial_state=encoder_states)\n",
    "decoder_dense = Dense(num_tokens, activation='softmax')\n",
    "decoder_outputs = decoder_dense(decoder_outputs)\n",
    "\n",
    "# Define the model that will turn\n",
    "# `encoder_input_data` & `decoder_input_data` into `decoder_target_data`\n",
    "model = Model([encoder_inputs, decoder_inputs], decoder_outputs)"
   ]
  },
  {
   "cell_type": "code",
   "execution_count": 26,
   "metadata": {
    "collapsed": true
   },
   "outputs": [],
   "source": [
    "# Run training\n",
    "model.compile(optimizer='rmsprop', loss='categorical_crossentropy')"
   ]
  },
  {
   "cell_type": "code",
   "execution_count": 27,
   "metadata": {},
   "outputs": [
    {
     "name": "stdout",
     "output_type": "stream",
     "text": [
      "Epoch 1/20\n",
      "38546/38546 [==============================] - 1283s - loss: 0.2688  \n",
      "Epoch 2/20\n",
      "38546/38546 [==============================] - 1278s - loss: 0.1596  \n",
      "Epoch 3/20\n",
      "38546/38546 [==============================] - 1284s - loss: 0.1455  \n",
      "Epoch 4/20\n",
      "38546/38546 [==============================] - 1289s - loss: 0.1348  \n",
      "Epoch 5/20\n",
      "38546/38546 [==============================] - 1294s - loss: 0.1295  \n",
      "Epoch 6/20\n",
      "38546/38546 [==============================] - 1303s - loss: 0.1260  \n",
      "Epoch 7/20\n",
      "38546/38546 [==============================] - 1314s - loss: 0.1237  \n",
      "Epoch 8/20\n",
      "38546/38546 [==============================] - 1321s - loss: 0.1213  \n",
      "Epoch 9/20\n",
      "38546/38546 [==============================] - 1330s - loss: 0.1184  \n",
      "Epoch 10/20\n",
      "38546/38546 [==============================] - 1337s - loss: 0.1164  \n",
      "Epoch 11/20\n",
      "38546/38546 [==============================] - 1335s - loss: 0.1156  \n",
      "Epoch 12/20\n",
      "38546/38546 [==============================] - 1333s - loss: 0.1150  \n",
      "Epoch 13/20\n",
      "38546/38546 [==============================] - 1339s - loss: 0.1146  \n",
      "Epoch 14/20\n",
      "38546/38546 [==============================] - 1335s - loss: 0.1144  \n",
      "Epoch 15/20\n",
      "38546/38546 [==============================] - 1335s - loss: 0.1143  \n",
      "Epoch 16/20\n",
      "38546/38546 [==============================] - 1339s - loss: 0.1139  \n",
      "Epoch 17/20\n",
      "38546/38546 [==============================] - 1336s - loss: 0.1138  \n",
      "Epoch 18/20\n",
      "38546/38546 [==============================] - 1338s - loss: 0.1138  \n",
      "Epoch 19/20\n",
      "38546/38546 [==============================] - 1335s - loss: 0.1135  \n",
      "Epoch 20/20\n",
      "38546/38546 [==============================] - 1336s - loss: 0.1134  \n"
     ]
    },
    {
     "data": {
      "text/plain": [
       "<keras.callbacks.History at 0x7fb7025e8ed0>"
      ]
     },
     "execution_count": 27,
     "metadata": {},
     "output_type": "execute_result"
    }
   ],
   "source": [
    "model.fit([encoder_input_data, decoder_input_data], decoder_target_data,\n",
    "          batch_size=batch_size,\n",
    "          epochs=epochs)"
   ]
  },
  {
   "cell_type": "code",
   "execution_count": 30,
   "metadata": {
    "scrolled": true
   },
   "outputs": [
    {
     "ename": "ImportError",
     "evalue": "`save_model` requires h5py.",
     "output_type": "error",
     "traceback": [
      "\u001b[0;31m---------------------------------------------------------------------------\u001b[0m",
      "\u001b[0;31mImportError\u001b[0m                               Traceback (most recent call last)",
      "\u001b[0;32m<ipython-input-30-035250adcec5>\u001b[0m in \u001b[0;36m<module>\u001b[0;34m()\u001b[0m\n\u001b[1;32m      1\u001b[0m \u001b[0;31m# Save model\u001b[0m\u001b[0;34m\u001b[0m\u001b[0;34m\u001b[0m\u001b[0m\n\u001b[0;32m----> 2\u001b[0;31m \u001b[0mmodel\u001b[0m\u001b[0;34m.\u001b[0m\u001b[0msave\u001b[0m\u001b[0;34m(\u001b[0m\u001b[0;34m's2s12_PrPR.h5'\u001b[0m\u001b[0;34m)\u001b[0m\u001b[0;34m\u001b[0m\u001b[0m\n\u001b[0m",
      "\u001b[0;32m/usr/local/lib/python2.7/dist-packages/keras/engine/topology.pyc\u001b[0m in \u001b[0;36msave\u001b[0;34m(self, filepath, overwrite, include_optimizer)\u001b[0m\n\u001b[1;32m   2551\u001b[0m         \"\"\"\n\u001b[1;32m   2552\u001b[0m         \u001b[0;32mfrom\u001b[0m \u001b[0;34m.\u001b[0m\u001b[0;34m.\u001b[0m\u001b[0mmodels\u001b[0m \u001b[0;32mimport\u001b[0m \u001b[0msave_model\u001b[0m\u001b[0;34m\u001b[0m\u001b[0m\n\u001b[0;32m-> 2553\u001b[0;31m         \u001b[0msave_model\u001b[0m\u001b[0;34m(\u001b[0m\u001b[0mself\u001b[0m\u001b[0;34m,\u001b[0m \u001b[0mfilepath\u001b[0m\u001b[0;34m,\u001b[0m \u001b[0moverwrite\u001b[0m\u001b[0;34m,\u001b[0m \u001b[0minclude_optimizer\u001b[0m\u001b[0;34m)\u001b[0m\u001b[0;34m\u001b[0m\u001b[0m\n\u001b[0m\u001b[1;32m   2554\u001b[0m \u001b[0;34m\u001b[0m\u001b[0m\n\u001b[1;32m   2555\u001b[0m     \u001b[0;32mdef\u001b[0m \u001b[0msave_weights\u001b[0m\u001b[0;34m(\u001b[0m\u001b[0mself\u001b[0m\u001b[0;34m,\u001b[0m \u001b[0mfilepath\u001b[0m\u001b[0;34m,\u001b[0m \u001b[0moverwrite\u001b[0m\u001b[0;34m=\u001b[0m\u001b[0mTrue\u001b[0m\u001b[0;34m)\u001b[0m\u001b[0;34m:\u001b[0m\u001b[0;34m\u001b[0m\u001b[0m\n",
      "\u001b[0;32m/usr/local/lib/python2.7/dist-packages/keras/models.pyc\u001b[0m in \u001b[0;36msave_model\u001b[0;34m(model, filepath, overwrite, include_optimizer)\u001b[0m\n\u001b[1;32m     54\u001b[0m \u001b[0;34m\u001b[0m\u001b[0m\n\u001b[1;32m     55\u001b[0m     \u001b[0;32mif\u001b[0m \u001b[0mh5py\u001b[0m \u001b[0;32mis\u001b[0m \u001b[0mNone\u001b[0m\u001b[0;34m:\u001b[0m\u001b[0;34m\u001b[0m\u001b[0m\n\u001b[0;32m---> 56\u001b[0;31m         \u001b[0;32mraise\u001b[0m \u001b[0mImportError\u001b[0m\u001b[0;34m(\u001b[0m\u001b[0;34m'`save_model` requires h5py.'\u001b[0m\u001b[0;34m)\u001b[0m\u001b[0;34m\u001b[0m\u001b[0m\n\u001b[0m\u001b[1;32m     57\u001b[0m \u001b[0;34m\u001b[0m\u001b[0m\n\u001b[1;32m     58\u001b[0m     \u001b[0;32mdef\u001b[0m \u001b[0mget_json_type\u001b[0m\u001b[0;34m(\u001b[0m\u001b[0mobj\u001b[0m\u001b[0;34m)\u001b[0m\u001b[0;34m:\u001b[0m\u001b[0;34m\u001b[0m\u001b[0m\n",
      "\u001b[0;31mImportError\u001b[0m: `save_model` requires h5py."
     ]
    }
   ],
   "source": [
    "# Save model\n",
    "model.save('s2s12_PrPR.h5')"
   ]
  },
  {
   "cell_type": "code",
   "execution_count": null,
   "metadata": {
    "collapsed": true
   },
   "outputs": [],
   "source": [
    "# Next: inference mode (sampling).\n",
    "# Here's the drill:\n",
    "# 1) encode input and retrieve initial decoder state\n",
    "# 2) run one step of decoder with this initial state\n",
    "# and a \"start of sequence\" token as target.\n",
    "# Output will be the next target token\n",
    "# 3) Repeat with the current target token and current states"
   ]
  },
  {
   "cell_type": "code",
   "execution_count": 31,
   "metadata": {
    "collapsed": true
   },
   "outputs": [],
   "source": [
    "# Define sampling models\n",
    "encoder_model = Model(encoder_inputs, encoder_states)\n",
    "\n",
    "decoder_state_input_h = Input(shape=(latent_dim,))\n",
    "decoder_state_input_c = Input(shape=(latent_dim,))\n",
    "decoder_states_inputs = [decoder_state_input_h, decoder_state_input_c]\n",
    "decoder_outputs, state_h, state_c = decoder_lstm(\n",
    "    decoder_inputs, initial_state=decoder_states_inputs)\n",
    "decoder_states = [state_h, state_c]\n",
    "decoder_outputs = decoder_dense(decoder_outputs)\n",
    "decoder_model = Model(\n",
    "    [decoder_inputs] + decoder_states_inputs,\n",
    "    [decoder_outputs] + decoder_states)\n",
    "\n",
    "# Reverse-lookup token index to decode sequences back to\n",
    "# something readable.\n",
    "reverse_char_index = dict(\n",
    "    (i, char) for char, i in token_index.items())\n"
   ]
  },
  {
   "cell_type": "code",
   "execution_count": 34,
   "metadata": {
    "collapsed": true
   },
   "outputs": [],
   "source": [
    "def decode_sequence(input_seq):\n",
    "    # Encode the input as state vectors.\n",
    "    states_value = encoder_model.predict(input_seq)\n",
    "\n",
    "    # Generate empty target sequence of length 1.\n",
    "    target_seq = np.zeros((1, 1, num_tokens))\n",
    "    # Populate the first character of target sequence with the start character.\n",
    "    target_seq[0, 0, token_index['start_']] = 1.\n",
    "\n",
    "    # Sampling loop for a batch of sequences\n",
    "    # (to simplify, here we assume a batch of size 1).\n",
    "    stop_condition = False\n",
    "    decoded_sentence = ''\n",
    "    while not stop_condition:\n",
    "        output_tokens, h, c = decoder_model.predict(\n",
    "            [target_seq] + states_value)\n",
    "\n",
    "        # Sample a token\n",
    "        sampled_token_index = np.argmax(output_tokens[0, -1, :])\n",
    "        sampled_char = reverse_char_index[sampled_token_index]\n",
    "        decoded_sentence += sampled_char + ' '\n",
    "\n",
    "        # Exit condition: either hit max length\n",
    "        # or find stop character.\n",
    "        if (sampled_char == '\\n' or\n",
    "           len(decoded_sentence) > max_decoder_seq_length):\n",
    "            stop_condition = True\n",
    "\n",
    "        # Update the target sequence (of length 1).\n",
    "        target_seq = np.zeros((1, 1, num_tokens))\n",
    "        target_seq[0, 0, sampled_token_index] = 1.\n",
    "\n",
    "        # Update states\n",
    "        states_value = [h, c]\n",
    "\n",
    "    return decoded_sentence"
   ]
  },
  {
   "cell_type": "code",
   "execution_count": 35,
   "metadata": {},
   "outputs": [
    {
     "name": "stdout",
     "output_type": "stream",
     "text": [
      "-\n",
      "Input sentence: there are categories of education and training that a mb will undergo\n",
      "Decoded sentence: UNkN UNkN UNkN \n",
      "-\n",
      "Input sentence: DedicationMarch no was completed in November and published in\n",
      "Decoded sentence: UNkN UNkN UNkN \n",
      "-\n",
      "Input sentence: FarbenLehre is a polish punk band formed in by WojciechWojda\n",
      "Decoded sentence: UNkN UNkN UNkN \n",
      "-\n",
      "Input sentence: the Futureheads released their self titled debut album in September on recordings\n",
      "Decoded sentence: UNkN UNkN UNkN \n",
      "-\n",
      "Input sentence: the url of \\/ was mistakenly added to the malware patterns file\n",
      "Decoded sentence: UNkN UNkN UNkN \n",
      "-\n",
      "Input sentence: the ShihTzu is a breed of dog weighing with long silky hair\n",
      "Decoded sentence: UNkN UNkN UNkN \n",
      "-\n",
      "Input sentence: fighting in the civil war he won many medals\n",
      "Decoded sentence: UNkN UNkN UNkN \n",
      "-\n",
      "Input sentence: NASA 's JIMO was canceled in\n",
      "Decoded sentence: UNkN UNkN UNkN \n",
      "-\n",
      "Input sentence: refusing to speak to some segregated auditoriums while speaking to others\n",
      "Decoded sentence: UNkN UNkN UNkN \n",
      "-\n",
      "Input sentence: it was written by AlJean MikeReiss SamSimon MattGroening and directed by RichMoore\n",
      "Decoded sentence: UNkN UNkN UNkN \n",
      "-\n",
      "Input sentence: Hasilpur is the oldest city of BahawalpurDistrict in east central Punjab Pakistan\n",
      "Decoded sentence: UNkN UNkN UNkN \n",
      "-\n",
      "Input sentence: Gotha is a town in Thuringia within the central core of Germany\n",
      "Decoded sentence: UNkN UNkN UNkN \n",
      "-\n",
      "Input sentence: salty or softened water can also cause this\n",
      "Decoded sentence: UNkN UNkN UNkN \n",
      "-\n",
      "Input sentence: there may or may not be sex chromosomes\n",
      "Decoded sentence: UNkN UNkN UNkN \n",
      "-\n",
      "Input sentence: Lisa is dismayed after witnessing a bribery scandal in the Senate\n",
      "Decoded sentence: UNkN UNkN UNkN \n",
      "-\n",
      "Input sentence: Ilocos collectively refers to provinces in the Philippines IlocosNorte and IlocosSur\n",
      "Decoded sentence: UNkN UNkN UNkN \n",
      "-\n",
      "Input sentence: besides Japanese he has performed in English french korean Cantonese and Mandarin\n",
      "Decoded sentence: UNkN UNkN UNkN \n",
      "-\n",
      "Input sentence: there are small islands nearby NusaLembongan and NusaCeningan\n",
      "Decoded sentence: UNkN UNkN UNkN \n",
      "-\n",
      "Input sentence: elephants and some antelope will actively dislodge the oxpeckers when they land\n",
      "Decoded sentence: UNkN UNkN UNkN \n",
      "-\n",
      "Input sentence: LaurenMacMullan is an animation director\n",
      "Decoded sentence: UNkN UNkN UNkN \n",
      "-\n",
      "Input sentence: they are both launched in\n",
      "Decoded sentence: UNkN UNkN UNkN \n",
      "-\n",
      "Input sentence: for a subject exclusively related to the UnitedKingdom use british English\n",
      "Decoded sentence: UNkN UNkN UNkN \n",
      "-\n",
      "Input sentence: it was discovered by SethBarnesNicholson at MountWilsonObservatory in California in July\n",
      "Decoded sentence: UNkN UNkN UNkN \n",
      "-\n",
      "Input sentence: Benoit won the match and was congratulated by TheodoreLong\n",
      "Decoded sentence: UNkN UNkN UNkN \n",
      "-\n",
      "Input sentence: the wanderer is strolling quietly unhappily and asks sighing the question where\n",
      "Decoded sentence: UNkN UNkN UNkN \n",
      "-\n",
      "Input sentence: in some instances wild populations may be vaccinated\n",
      "Decoded sentence: UNkN UNkN UNkN \n",
      "-\n",
      "Input sentence: support for early IMSAI systems continues to this day\n",
      "Decoded sentence: UNkN UNkN UNkN \n",
      "-\n",
      "Input sentence: the constitutional head of Johor is the Sultan\n",
      "Decoded sentence: UNkN UNkN UNkN \n",
      "-\n",
      "Input sentence: it was finally upgraded and declared a NationalPark in the year\n",
      "Decoded sentence: UNkN UNkN UNkN \n",
      "-\n",
      "Input sentence: this is a common process in plants especially those which exhibit polyploidy\n",
      "Decoded sentence: UNkN UNkN UNkN \n",
      "-\n",
      "Input sentence: the L&B used only coal fired steam motive power\n",
      "Decoded sentence: UNkN UNkN UNkN \n",
      "-\n",
      "Input sentence: MarkusBabbel is a former international german football player who became a manager\n",
      "Decoded sentence: UNkN UNkN UNkN \n",
      "-\n",
      "Input sentence: IchiroHosotani is a former japanese football player\n",
      "Decoded sentence: UNkN UNkN UNkN \n",
      "-\n",
      "Input sentence: it was preceded by WaltDisneyMasterpieceCollection which ran from to\n",
      "Decoded sentence: UNkN UNkN UNkN \n",
      "-\n",
      "Input sentence: they were established in from the school football team at HamiltonAcademy\n",
      "Decoded sentence: UNkN UNkN UNkN \n",
      "-\n",
      "Input sentence: Cameron currently partners with fellow evangelist RayComfort training Christians in evangelism\n",
      "Decoded sentence: UNkN UNkN UNkN \n",
      "-\n",
      "Input sentence: it originally aired on ComedyCentral in the UnitedStates on October\n",
      "Decoded sentence: UNkN UNkN UNkN \n",
      "-\n",
      "Input sentence: in she was the only female entertainer allowed to perform in SaudiArabia\n",
      "Decoded sentence: UNkN UNkN UNkN \n",
      "-\n",
      "Input sentence: stars and PlanetsGuide Collins London\n",
      "Decoded sentence: UNkN UNkN UNkN \n",
      "-\n",
      "Input sentence: the plumage is of blackish glossed blue green and purple\n",
      "Decoded sentence: UNkN UNkN UNkN \n",
      "-\n",
      "Input sentence: Graham A. Metis MonthlyNotices of the RoyalAstronomicalSociety Vol\n",
      "Decoded sentence: UNkN UNkN UNkN \n",
      "-\n",
      "Input sentence: both PresidentCarter and his wife Rosalynn were born in Plains\n",
      "Decoded sentence: UNkN UNkN UNkN \n",
      "-\n",
      "Input sentence: growth cycles are controlled by a chemical signal like epidermal growth factor\n",
      "Decoded sentence: UNkN UNkN UNkN \n",
      "-\n",
      "Input sentence: its original theme park MagicKingdom is designed similarly to Disneyland\n",
      "Decoded sentence: UNkN UNkN UNkN \n",
      "-\n",
      "Input sentence: coderesultcomment shows its own syntax\n",
      "Decoded sentence: UNkN UNkN UNkN \n",
      "-\n",
      "Input sentence: GreenDay commenced work on the record in January\n",
      "Decoded sentence: UNkN UNkN UNkN \n",
      "-\n",
      "Input sentence: all of the schools are in the city of Declo\n",
      "Decoded sentence: UNkN UNkN UNkN \n",
      "-\n",
      "Input sentence: there was no sectarian violence against various religions\n",
      "Decoded sentence: UNkN UNkN UNkN \n",
      "-\n",
      "Input sentence: from it will take place for at least another years\n",
      "Decoded sentence: UNkN UNkN UNkN \n",
      "-\n",
      "Input sentence: Smith first gained popularity in Playboy becoming the Playmate of the Year\n",
      "Decoded sentence: UNkN UNkN UNkN \n",
      "-\n",
      "Input sentence: ShaukatAziz was the PrimeMinister of Pakistan from to\n",
      "Decoded sentence: UNkN UNkN UNkN \n",
      "-\n",
      "Input sentence: no damage or fatalities were reported as a result of Helene\n",
      "Decoded sentence: UNkN UNkN UNkN \n",
      "-\n",
      "Input sentence: weeks later on July a powerful hurricane hit near Guadeloupe\n",
      "Decoded sentence: UNkN UNkN UNkN \n",
      "-\n",
      "Input sentence: there was in that sense a kind of uplifting grandeur\n",
      "Decoded sentence: UNkN UNkN UNkN \n",
      "-\n",
      "Input sentence: the present GrandDuke of Luxembourg is Henri\n",
      "Decoded sentence: UNkN UNkN UNkN \n",
      "-\n",
      "Input sentence: nerium oleander L.Flora of China\n",
      "Decoded sentence: UNkN UNkN UNkN \n",
      "-\n",
      "Input sentence: many zoos and breeding centers in China house giant pandas\n",
      "Decoded sentence: UNkN UNkN UNkN \n",
      "-\n",
      "Input sentence: Dover was incorporated in years after its founding\n",
      "Decoded sentence: UNkN UNkN UNkN \n",
      "-\n",
      "Input sentence: this allows editors to catalogue statements that may become dated over time\n",
      "Decoded sentence: UNkN UNkN UNkN \n",
      "-\n",
      "Input sentence: you should not put quotation marks around the quote\n",
      "Decoded sentence: UNkN UNkN UNkN \n",
      "-\n",
      "Input sentence: emmaste is a village in EmmasteParish HiiuCounty in northwestern Estonia\n",
      "Decoded sentence: UNkN UNkN UNkN \n",
      "-\n",
      "Input sentence: they are demanding that roman script be given equal status to Devanagari\n",
      "Decoded sentence: UNkN UNkN UNkN \n",
      "-\n",
      "Input sentence: holding the album 's master tape\n",
      "Decoded sentence: UNkN UNkN UNkN \n",
      "-\n",
      "Input sentence: in manning proposed to AbbyMcGrew of Nashville Tennessee\n",
      "Decoded sentence: UNkN UNkN UNkN \n",
      "-\n",
      "Input sentence: LeBroc is a commune in the Alpes Maritimes department in southeastern France\n",
      "Decoded sentence: UNkN UNkN UNkN \n",
      "-\n",
      "Input sentence: the earliest known representatives of this group are the Cooksonia and Baragwanathia\n",
      "Decoded sentence: UNkN UNkN UNkN \n",
      "-\n",
      "Input sentence: ukiyo e were affordable because they could be mass produced\n",
      "Decoded sentence: UNkN UNkN UNkN \n",
      "-\n",
      "Input sentence: the goal of Wikipedia is to have a well written encyclopedia\n",
      "Decoded sentence: UNkN UNkN UNkN \n",
      "-\n",
      "Input sentence: candidates for government office must take civil service examinations\n",
      "Decoded sentence: UNkN UNkN UNkN \n",
      "-\n",
      "Input sentence: in the BlackDeath began to ravage Europe\n",
      "Decoded sentence: UNkN UNkN UNkN \n",
      "-\n",
      "Input sentence: when his duty is over he keeps his title of grammarian\n",
      "Decoded sentence: UNkN UNkN UNkN \n",
      "-\n",
      "Input sentence: Ma vu esas pura e vu venas de stelo\n",
      "Decoded sentence: UNkN UNkN UNkN \n",
      "-\n",
      "Input sentence: poverty stricken she was forced to rent out most of the palace\n",
      "Decoded sentence: UNkN UNkN UNkN \n",
      "-\n",
      "Input sentence: by succession it came under prussian rule in\n",
      "Decoded sentence: UNkN UNkN UNkN \n",
      "-\n",
      "Input sentence: this feature requires RemoteInstallMacOS x to be running on the remote computer\n",
      "Decoded sentence: UNkN UNkN UNkN \n",
      "-\n",
      "Input sentence: eventually the band signed with JiveRecords\n",
      "Decoded sentence: UNkN UNkN UNkN \n"
     ]
    },
    {
     "name": "stdout",
     "output_type": "stream",
     "text": [
      "-\n",
      "Input sentence: they are commonly found on food labels throughout the EuropeanUnion\n",
      "Decoded sentence: UNkN UNkN UNkN \n",
      "-\n",
      "Input sentence: BethnalGreen railway station is in the LondonBorough of TowerHamlets in east London\n",
      "Decoded sentence: UNkN UNkN UNkN \n",
      "-\n",
      "Input sentence: Stratford did as well in the face of pressure from the MapleLeafs\n",
      "Decoded sentence: UNkN UNkN UNkN \n",
      "-\n",
      "Input sentence: on March a volcano erupted on RitterIsland causing a megatsunami\n",
      "Decoded sentence: UNkN UNkN UNkN \n",
      "-\n",
      "Input sentence: he attended the University of Nebraska at Kearney and graduated in\n",
      "Decoded sentence: UNkN UNkN UNkN \n",
      "-\n",
      "Input sentence: DawnFraserAO MBE born September is an australian champion swimmer\n",
      "Decoded sentence: UNkN UNkN UNkN \n",
      "-\n",
      "Input sentence: the NightSanta went Crazy is an original song by WeirdAl Yankovic\n",
      "Decoded sentence: UNkN UNkN UNkN \n",
      "-\n",
      "Input sentence: Young was also elected to the BaseballHall of Fame in\n",
      "Decoded sentence: UNkN UNkN UNkN \n",
      "-\n",
      "Input sentence: however Grover meets a monster\n",
      "Decoded sentence: UNkN UNkN UNkN \n",
      "-\n",
      "Input sentence: up to generators were used to power up the show\n",
      "Decoded sentence: UNkN UNkN UNkN \n",
      "-\n",
      "Input sentence: in the acute zone the eyes are flattened and the facets larger\n",
      "Decoded sentence: UNkN UNkN UNkN \n",
      "-\n",
      "Input sentence: the Report supported a strict interpretation of the FirstAmendment\n",
      "Decoded sentence: UNkN UNkN UNkN \n",
      "-\n",
      "Input sentence: NBCNews is the news division of american television network NBC\n",
      "Decoded sentence: UNkN UNkN UNkN \n",
      "-\n",
      "Input sentence: Cincinnati is a city in AppanooseCounty Iowa UnitedStates\n",
      "Decoded sentence: UNkN UNkN UNkN \n",
      "-\n",
      "Input sentence: in ManuelPino received the Nuclear FreeFutureAward\n",
      "Decoded sentence: UNkN UNkN UNkN \n",
      "-\n",
      "Input sentence: the team continued under the name TeamHighRoad through June\n",
      "Decoded sentence: UNkN UNkN UNkN \n",
      "-\n",
      "Input sentence: large populations of dugongs live there\n",
      "Decoded sentence: UNkN UNkN UNkN \n",
      "-\n",
      "Input sentence: LouHenryHooverElementarySchool in Whittier was built in and was named in her honor\n",
      "Decoded sentence: UNkN UNkN UNkN \n",
      "-\n",
      "Input sentence: the story examines desire wisdom and human will\n",
      "Decoded sentence: UNkN UNkN UNkN \n",
      "-\n",
      "Input sentence: cx back into the pool of available domains\n",
      "Decoded sentence: UNkN UNkN UNkN \n",
      "-\n",
      "Input sentence: the vessel was formerly known as the MSLindbladExplorer and the MSSocietyExplorer\n",
      "Decoded sentence: UNkN UNkN UNkN \n",
      "-\n",
      "Input sentence: Graham said that his planned retirement was because of his failing health\n",
      "Decoded sentence: UNkN UNkN UNkN \n",
      "-\n",
      "Input sentence: waves offshore reached f in height\n",
      "Decoded sentence: UNkN UNkN UNkN \n",
      "-\n",
      "Input sentence: Sturgeon was best known for his short stories and novellas\n",
      "Decoded sentence: UNkN UNkN UNkN \n"
     ]
    }
   ],
   "source": [
    "# encoder_input_data_test = np.zeros(\n",
    "#     (len(test), max_encoder_seq_length, num_encoder_tokens),\n",
    "#     dtype='float32')\n",
    "\n",
    "# for i, (input_text, target_text) in enumerate(test):\n",
    "#     for t, char in enumerate(input_text.split()):\n",
    "#         encoder_input_data_test[i, t, input_token_index[char]] = 1.\n",
    "\n",
    "\n",
    "for seq_index in range(100):\n",
    "# for compl, sim in test.iteritems():\n",
    "    # Take one sequence (part of the training set)\n",
    "    # for trying out decoding.\n",
    "    input_seq = encoder_input_data[seq_index: seq_index + 1]\n",
    "    decoded_sentence = decode_sequence(input_seq)\n",
    "    print('-')\n",
    "    print('Input sentence:', input_texts[seq_index])\n",
    "    print('Decoded sentence:', decoded_sentence)"
   ]
  },
  {
   "cell_type": "code",
   "execution_count": null,
   "metadata": {
    "collapsed": true
   },
   "outputs": [],
   "source": []
  }
 ],
 "metadata": {
  "kernelspec": {
   "display_name": "Python 2",
   "language": "python",
   "name": "python2"
  },
  "language_info": {
   "codemirror_mode": {
    "name": "ipython",
    "version": 2
   },
   "file_extension": ".py",
   "mimetype": "text/x-python",
   "name": "python",
   "nbconvert_exporter": "python",
   "pygments_lexer": "ipython2",
   "version": "2.7.12"
  }
 },
 "nbformat": 4,
 "nbformat_minor": 2
}
